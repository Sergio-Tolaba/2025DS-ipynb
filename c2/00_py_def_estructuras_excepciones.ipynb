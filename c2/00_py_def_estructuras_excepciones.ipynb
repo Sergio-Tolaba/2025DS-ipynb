{
  "nbformat": 4,
  "nbformat_minor": 0,
  "metadata": {
    "colab": {
      "provenance": [],
      "authorship_tag": "ABX9TyNQFS71NT7oVWGIjro/SN8V",
      "include_colab_link": true
    },
    "kernelspec": {
      "name": "python3",
      "display_name": "Python 3"
    },
    "language_info": {
      "name": "python"
    }
  },
  "cells": [
    {
      "cell_type": "markdown",
      "metadata": {
        "id": "view-in-github",
        "colab_type": "text"
      },
      "source": [
        "<a href=\"https://colab.research.google.com/github/Sergio-Tolaba/ej_ds/blob/main/c2/00_py_def_estructuras_excepciones.ipynb\" target=\"_parent\"><img src=\"https://colab.research.google.com/assets/colab-badge.svg\" alt=\"Open In Colab\"/></a>"
      ]
    },
    {
      "cell_type": "code",
      "source": [],
      "metadata": {
        "id": "LoXXZU_8ukUG"
      },
      "execution_count": null,
      "outputs": []
    },
    {
      "cell_type": "markdown",
      "source": [
        "# Python para Data Science: trabajar con funciones, estructuras de datos y excepciones"
      ],
      "metadata": {
        "id": "CxQ9MIYWs-_p"
      }
    },
    {
      "cell_type": "markdown",
      "source": [
        "* Funciones: de py, mías / con y sin return / lambda o anónimas(como parámetros de otra función)\n",
        "* Colecciones: Listas=>[] secuencias mutables, modificables-actualizar, que se pueden recorrer\n",
        "Tuplas=>() secuencias inmutables, iterables, traer sus elementos, no modificables\n",
        "Diccionarios=>{'llave': valor}\n",
        "Esturcturas anidadas: una coleccion dentro de otra colección Ej dict con listas como valore, con tuplas como valor, con dict\n",
        "* Comprehension de List/Dict\n",
        "* Tratamiento de excepciones"
      ],
      "metadata": {
        "id": "VBBSffM3uOUH"
      }
    },
    {
      "cell_type": "code",
      "execution_count": 1,
      "metadata": {
        "id": "LM624eGYsykF"
      },
      "outputs": [],
      "source": [
        "import matplotlib as plt\n"
      ]
    },
    {
      "cell_type": "code",
      "source": [
        "plt__version__\n"
      ],
      "metadata": {
        "colab": {
          "base_uri": "https://localhost:8080/",
          "height": 141
        },
        "id": "U-xoLVZwEfbp",
        "outputId": "7abbb07c-0a9d-4684-86ee-109baddc7a26"
      },
      "execution_count": 2,
      "outputs": [
        {
          "output_type": "error",
          "ename": "NameError",
          "evalue": "name 'plt__version__' is not defined",
          "traceback": [
            "\u001b[0;31m---------------------------------------------------------------------------\u001b[0m",
            "\u001b[0;31mNameError\u001b[0m                                 Traceback (most recent call last)",
            "\u001b[0;32m<ipython-input-2-5b43cec13ff4>\u001b[0m in \u001b[0;36m<cell line: 0>\u001b[0;34m()\u001b[0m\n\u001b[0;32m----> 1\u001b[0;31m \u001b[0mplt__version__\u001b[0m\u001b[0;34m\u001b[0m\u001b[0;34m\u001b[0m\u001b[0m\n\u001b[0m",
            "\u001b[0;31mNameError\u001b[0m: name 'plt__version__' is not defined"
          ]
        }
      ]
    },
    {
      "cell_type": "code",
      "source": [
        "plt.__version__"
      ],
      "metadata": {
        "colab": {
          "base_uri": "https://localhost:8080/",
          "height": 36
        },
        "id": "k8L0bVj3EnfQ",
        "outputId": "d7ee908a-3955-4bd4-aefb-6d14e4a249a2"
      },
      "execution_count": 3,
      "outputs": [
        {
          "output_type": "execute_result",
          "data": {
            "text/plain": [
              "'3.10.0'"
            ],
            "application/vnd.google.colaboratory.intrinsic+json": {
              "type": "string"
            }
          },
          "metadata": {},
          "execution_count": 3
        }
      ]
    },
    {
      "cell_type": "code",
      "source": [],
      "metadata": {
        "id": "WTm6hSPLE4gz"
      },
      "execution_count": null,
      "outputs": []
    }
  ]
}