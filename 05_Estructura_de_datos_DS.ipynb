{
  "nbformat": 4,
  "nbformat_minor": 0,
  "metadata": {
    "colab": {
      "provenance": [],
      "authorship_tag": "ABX9TyOfMtNJzp42mi12kvo33F/b",
      "include_colab_link": true
    },
    "kernelspec": {
      "name": "python3",
      "display_name": "Python 3"
    },
    "language_info": {
      "name": "python"
    }
  },
  "cells": [
    {
      "cell_type": "markdown",
      "metadata": {
        "id": "view-in-github",
        "colab_type": "text"
      },
      "source": [
        "<a href=\"https://colab.research.google.com/github/Sergio-Tolaba/2025DS-ipynb/blob/main/05_Estructura_de_datos_DS.ipynb\" target=\"_parent\"><img src=\"https://colab.research.google.com/assets/colab-badge.svg\" alt=\"Open In Colab\"/></a>"
      ]
    },
    {
      "cell_type": "markdown",
      "source": [
        "# Listas= coleccion de datos ordenados\n",
        "* lista = [ ] está vacía\n",
        "* Mutable: se pueden cambiar sus elementos\n"
      ],
      "metadata": {
        "id": "s4lRQC0ZOPxS"
      }
    },
    {
      "cell_type": "code",
      "execution_count": 4,
      "metadata": {
        "colab": {
          "base_uri": "https://localhost:8080/"
        },
        "id": "5hJYZrq0NIvh",
        "outputId": "1ca0d9a2-8f50-4177-c114-944c16b6df76"
      },
      "outputs": [
        {
          "output_type": "execute_result",
          "data": {
            "text/plain": [
              "str"
            ]
          },
          "metadata": {},
          "execution_count": 4
        }
      ],
      "source": [
        "lista = ['ser', 9.2, True, {}, [1,2]]\n",
        "type(lista[0]) # str"
      ]
    },
    {
      "cell_type": "markdown",
      "source": [
        "index 0,1,2,3,4  // -5,-4,-3,-2,-1"
      ],
      "metadata": {
        "id": "pQXBpvURPcb6"
      }
    },
    {
      "cell_type": "code",
      "source": [
        "for i in lista:\n",
        "  print(i)"
      ],
      "metadata": {
        "colab": {
          "base_uri": "https://localhost:8080/"
        },
        "id": "fkERgLOdPwbr",
        "outputId": "fde6061d-4564-4882-fb05-f24160b4bfa5"
      },
      "execution_count": 5,
      "outputs": [
        {
          "output_type": "stream",
          "name": "stdout",
          "text": [
            "ser\n",
            "9.2\n",
            "True\n",
            "{}\n",
            "[1, 2]\n"
          ]
        }
      ]
    },
    {
      "cell_type": "code",
      "source": [
        "# Modifico 9.2 a 9.8\n",
        "lista[1] = 9.8\n",
        "lista"
      ],
      "metadata": {
        "colab": {
          "base_uri": "https://localhost:8080/"
        },
        "id": "0Z9Xwai7QakN",
        "outputId": "b4cd8a31-5d15-4525-ab2b-c22ef0e7a8b7"
      },
      "execution_count": 6,
      "outputs": [
        {
          "output_type": "execute_result",
          "data": {
            "text/plain": [
              "['ser', 9.8, True, {}, [1, 2]]"
            ]
          },
          "metadata": {},
          "execution_count": 6
        }
      ]
    },
    {
      "cell_type": "code",
      "source": [
        "notas = ['Ser',9.5,10,9.7,False]\n",
        "prom = notas[1]+notas[2]+notas[3]\n",
        "prom = prom/3\n",
        "prom"
      ],
      "metadata": {
        "colab": {
          "base_uri": "https://localhost:8080/"
        },
        "id": "bqBHTfWZSzgn",
        "outputId": "8beb5f62-1dff-4b3b-f3b4-0be6265c3591"
      },
      "execution_count": 7,
      "outputs": [
        {
          "output_type": "execute_result",
          "data": {
            "text/plain": [
              "9.733333333333333"
            ]
          },
          "metadata": {},
          "execution_count": 7
        }
      ]
    },
    {
      "cell_type": "markdown",
      "source": [
        "Una cadena de texto no es una lista pero se puede transformar en una lista\n",
        "*str accedemos a los caracteres =lista x indices Ej leng = 'Python' Ej leng[-1]=>'n'\n",
        "*str, pero no se puede modificar Ej leng[0]='p'=>error de compilación"
      ],
      "metadata": {
        "id": "VOm9ujMBU2yA"
      }
    },
    {
      "cell_type": "code",
      "source": [
        "leng='Python'\n",
        "leng[-1]"
      ],
      "metadata": {
        "colab": {
          "base_uri": "https://localhost:8080/",
          "height": 36
        },
        "id": "FBSF2IhdV0Iq",
        "outputId": "34ca1ce3-0a6c-4022-a1c7-94955cfc9478"
      },
      "execution_count": 8,
      "outputs": [
        {
          "output_type": "execute_result",
          "data": {
            "text/plain": [
              "'n'"
            ],
            "application/vnd.google.colaboratory.intrinsic+json": {
              "type": "string"
            }
          },
          "metadata": {},
          "execution_count": 8
        }
      ]
    },
    {
      "cell_type": "code",
      "source": [
        "leng[0]='p'# TypeError: 'str' object does not support item assignment"
      ],
      "metadata": {
        "colab": {
          "base_uri": "https://localhost:8080/",
          "height": 148
        },
        "id": "qu4iCKgrV9kf",
        "outputId": "1f1058bb-b8af-4eab-c4c4-320936c0c0a1"
      },
      "execution_count": 9,
      "outputs": [
        {
          "output_type": "error",
          "ename": "TypeError",
          "evalue": "'str' object does not support item assignment",
          "traceback": [
            "\u001b[0;31m---------------------------------------------------------------------------\u001b[0m",
            "\u001b[0;31mTypeError\u001b[0m                                 Traceback (most recent call last)",
            "\u001b[0;32m<ipython-input-9-66faa0999fd4>\u001b[0m in \u001b[0;36m<cell line: 0>\u001b[0;34m()\u001b[0m\n\u001b[0;32m----> 1\u001b[0;31m \u001b[0mleng\u001b[0m\u001b[0;34m[\u001b[0m\u001b[0;36m0\u001b[0m\u001b[0;34m]\u001b[0m\u001b[0;34m=\u001b[0m\u001b[0;34m'p'\u001b[0m\u001b[0;34m\u001b[0m\u001b[0;34m\u001b[0m\u001b[0m\n\u001b[0m",
            "\u001b[0;31mTypeError\u001b[0m: 'str' object does not support item assignment"
          ]
        }
      ]
    },
    {
      "cell_type": "code",
      "source": [
        "# str => lista\n",
        "saludo='Hola Mundo'\n",
        "saludo_lista = saludo.split() # separador: espacio blanco, ?, etc\n",
        "saludo_lista"
      ],
      "metadata": {
        "colab": {
          "base_uri": "https://localhost:8080/"
        },
        "id": "QjrZZY7EWLzt",
        "outputId": "fab1b464-3e16-4700-e760-75115a91a860"
      },
      "execution_count": 10,
      "outputs": [
        {
          "output_type": "execute_result",
          "data": {
            "text/plain": [
              "['Hola', 'Mundo']"
            ]
          },
          "metadata": {},
          "execution_count": 10
        }
      ]
    },
    {
      "cell_type": "code",
      "source": [
        "# lista => str\n",
        "saludo_str = ' '.join(saludo_lista)\n",
        "saludo_str"
      ],
      "metadata": {
        "colab": {
          "base_uri": "https://localhost:8080/",
          "height": 36
        },
        "id": "iVCdXNSVXF6w",
        "outputId": "fd8560ea-6e4f-4d69-d8b8-14314a4af675"
      },
      "execution_count": 11,
      "outputs": [
        {
          "output_type": "execute_result",
          "data": {
            "text/plain": [
              "'Hola Mundo'"
            ],
            "application/vnd.google.colaboratory.intrinsic+json": {
              "type": "string"
            }
          },
          "metadata": {},
          "execution_count": 11
        }
      ]
    },
    {
      "cell_type": "code",
      "source": [
        "# ¿K elementos tiene la lista?\n",
        "lista = [2,True,\"color\",[3,6]]\n",
        "len(lista)"
      ],
      "metadata": {
        "colab": {
          "base_uri": "https://localhost:8080/"
        },
        "id": "ISLtzPo1YSUy",
        "outputId": "edcf2579-ca18-4ee2-f05b-43786bef0ea9"
      },
      "execution_count": 12,
      "outputs": [
        {
          "output_type": "execute_result",
          "data": {
            "text/plain": [
              "4"
            ]
          },
          "metadata": {},
          "execution_count": 12
        }
      ]
    },
    {
      "cell_type": "code",
      "source": [
        "# slice o porción de la lista. Es decir un conjunto de elementos\n",
        "lista[0:2] # incluye 1er elemento pero excluye el último elemento=>index=0 y 1"
      ],
      "metadata": {
        "colab": {
          "base_uri": "https://localhost:8080/"
        },
        "id": "LoZbLflvZAmV",
        "outputId": "35f44ac8-5afa-4a53-e7f0-1a31c057cea9"
      },
      "execution_count": 13,
      "outputs": [
        {
          "output_type": "execute_result",
          "data": {
            "text/plain": [
              "[2, True]"
            ]
          },
          "metadata": {},
          "execution_count": 13
        }
      ]
    },
    {
      "cell_type": "code",
      "source": [
        "lista[1:] #Toma indice 1 y hasta el último inclusive"
      ],
      "metadata": {
        "colab": {
          "base_uri": "https://localhost:8080/"
        },
        "id": "wwVEbX6-Z7MR",
        "outputId": "8e21592e-6c38-4845-e167-16cb9c179b5b"
      },
      "execution_count": 14,
      "outputs": [
        {
          "output_type": "execute_result",
          "data": {
            "text/plain": [
              "[True, 'color', [3, 6]]"
            ]
          },
          "metadata": {},
          "execution_count": 14
        }
      ]
    },
    {
      "cell_type": "code",
      "source": [
        "lista[:]"
      ],
      "metadata": {
        "colab": {
          "base_uri": "https://localhost:8080/"
        },
        "id": "yaKJo-0Ca4IR",
        "outputId": "d5b3fd0e-0317-4d51-bd59-8bc921a456e1"
      },
      "execution_count": 15,
      "outputs": [
        {
          "output_type": "execute_result",
          "data": {
            "text/plain": [
              "[2, True, 'color', [3, 6]]"
            ]
          },
          "metadata": {},
          "execution_count": 15
        }
      ]
    },
    {
      "cell_type": "code",
      "source": [
        "lista[2:]"
      ],
      "metadata": {
        "colab": {
          "base_uri": "https://localhost:8080/"
        },
        "id": "5r3WCD5za3--",
        "outputId": "7afeb7d6-809b-4598-9924-176ac0d1d57b"
      },
      "execution_count": 16,
      "outputs": [
        {
          "output_type": "execute_result",
          "data": {
            "text/plain": [
              "['color', [3, 6]]"
            ]
          },
          "metadata": {},
          "execution_count": 16
        }
      ]
    },
    {
      "cell_type": "markdown",
      "source": [
        "## Agregar elemento al final de la lista"
      ],
      "metadata": {
        "id": "JRoYsSyUq7oR"
      }
    },
    {
      "cell_type": "code",
      "source": [
        "notas = ['Ser',9.5,10,9.7,False]\n",
        "notas.append(prom) # Agrega UN elemento al final\n",
        "notas\n",
        "print(notas,len(notas))"
      ],
      "metadata": {
        "colab": {
          "base_uri": "https://localhost:8080/"
        },
        "id": "YqW_GADdrCOh",
        "outputId": "2072476a-1f3b-4cfc-c66e-0021e685f6dd"
      },
      "execution_count": 21,
      "outputs": [
        {
          "output_type": "stream",
          "name": "stdout",
          "text": [
            "['Ser', 9.5, 10, 9.7, False, 9.733333333333333] 6\n"
          ]
        }
      ]
    },
    {
      "cell_type": "code",
      "source": [
        "# extend() agrega VARIOS elementos al final\n",
        "notas = ['Ser',9.5,10,9.7,False]\n",
        "notas.extend([1,2,3]) # notas.append([1,2,3])=>6 elementos"
      ],
      "metadata": {
        "id": "_E-8YNLbrqTw"
      },
      "execution_count": 29,
      "outputs": []
    },
    {
      "cell_type": "code",
      "source": [
        "notas\n",
        "print(notas,len(notas)) # => 8 elementos"
      ],
      "metadata": {
        "colab": {
          "base_uri": "https://localhost:8080/"
        },
        "id": "1NyvXWhuuFTL",
        "outputId": "9ae90d22-b18a-4179-ff10-cd86c28dee8c"
      },
      "execution_count": 36,
      "outputs": [
        {
          "output_type": "stream",
          "name": "stdout",
          "text": [
            "['Ser', 9.5, 10, 9.7, False, 1, 2, 3] 8\n"
          ]
        }
      ]
    },
    {
      "cell_type": "code",
      "source": [
        "notas.remove(notas[0]) #Removió 'Ser'\n",
        "notas.remove(notas[-4]) #Removió False"
      ],
      "metadata": {
        "id": "YcOQMn6huGlH"
      },
      "execution_count": 39,
      "outputs": []
    },
    {
      "cell_type": "code",
      "source": [
        "notas.append(\"Ser\") #ejecuté dos veces\n",
        "notas      # Hay otros métodos al poner notas. =>despliega varios métodos más para investigar"
      ],
      "metadata": {
        "colab": {
          "base_uri": "https://localhost:8080/"
        },
        "id": "JTs1au-Iv2Yi",
        "outputId": "243e14fb-6b44-499e-a1c6-9376add728e6"
      },
      "execution_count": 42,
      "outputs": [
        {
          "output_type": "execute_result",
          "data": {
            "text/plain": [
              "[9.5, 10, 9.7, 1, 2, 3, 'Ser', 'Ser']"
            ]
          },
          "metadata": {},
          "execution_count": 42
        }
      ]
    },
    {
      "cell_type": "markdown",
      "source": [
        "# Diccionarios (dict)={\"clave\": valor}\n",
        "La clave o key es única y es un str\n",
        "**Se escribe con llaves {}.\n",
        "\n",
        "Cada elemento tiene una clave (key) y un valor (value).\n",
        "\n",
        "Las claves deben ser de un tipo inmutable (por ejemplo: cadenas, números, tuplas inmutables).\n",
        "\n",
        "Los valores pueden ser de cualquier tipo.\n",
        "\n",
        "No tienen un índice numérico como las listas, sino que accedes a los valores usando las claves.**"
      ],
      "metadata": {
        "id": "Bi_J1eyFwsAQ"
      }
    },
    {
      "cell_type": "code",
      "source": [
        "estudiante = {\n",
        "    'matricula': 123,\n",
        "    'fecha_ing': '01-01-2023',\n",
        "    'semestre': 5,\n",
        "    'promedio': 9.5\n",
        "}\n",
        "estudiante"
      ],
      "metadata": {
        "colab": {
          "base_uri": "https://localhost:8080/"
        },
        "id": "qfNgtLRav2Bb",
        "outputId": "7d2ae425-e27d-4590-997b-3e0435d48be8"
      },
      "execution_count": 44,
      "outputs": [
        {
          "output_type": "execute_result",
          "data": {
            "text/plain": [
              "{'matricula': 123, 'fecha_ing': '01-01-2023', 'semestre': 5, 'promedio': 9.5}"
            ]
          },
          "metadata": {},
          "execution_count": 44
        }
      ]
    },
    {
      "cell_type": "code",
      "source": [
        "# Hay que modificar la nota\n",
        "estudiante['promedio'] = 9.8\n",
        "estudiante"
      ],
      "metadata": {
        "colab": {
          "base_uri": "https://localhost:8080/"
        },
        "id": "nY3IklI70cX1",
        "outputId": "18f88373-23ae-45ff-e99a-79e7502cd67c"
      },
      "execution_count": 46,
      "outputs": [
        {
          "output_type": "execute_result",
          "data": {
            "text/plain": [
              "{'matricula': 123, 'fecha_ing': '01-01-2023', 'semestre': 5, 'promedio': 9.8}"
            ]
          },
          "metadata": {},
          "execution_count": 46
        }
      ]
    },
    {
      "cell_type": "code",
      "source": [
        "# Agrego una columna\n",
        "estudiante[\"modalidad\"]=\"presencial\"\n",
        "estudiante"
      ],
      "metadata": {
        "colab": {
          "base_uri": "https://localhost:8080/"
        },
        "id": "R_aUnRzN03l9",
        "outputId": "b264f625-904a-48f6-96cc-535977cb0687"
      },
      "execution_count": 47,
      "outputs": [
        {
          "output_type": "execute_result",
          "data": {
            "text/plain": [
              "{'matricula': 123,\n",
              " 'fecha_ing': '01-01-2023',\n",
              " 'semestre': 5,\n",
              " 'promedio': 9.8,\n",
              " 'modalidad': 'presencial'}"
            ]
          },
          "metadata": {},
          "execution_count": 47
        }
      ]
    },
    {
      "cell_type": "code",
      "source": [
        "len(estudiante)"
      ],
      "metadata": {
        "colab": {
          "base_uri": "https://localhost:8080/"
        },
        "id": "M7iQi7Q31NVD",
        "outputId": "9fce089f-1e9c-40e9-b85e-46c478ccb188"
      },
      "execution_count": 48,
      "outputs": [
        {
          "output_type": "execute_result",
          "data": {
            "text/plain": [
              "5"
            ]
          },
          "metadata": {},
          "execution_count": 48
        }
      ]
    },
    {
      "cell_type": "markdown",
      "source": [
        "## Métodos en diccionarios"
      ],
      "metadata": {
        "id": "P50s4C-84VA3"
      }
    },
    {
      "cell_type": "code",
      "source": [
        "#Borra un elemento por su clave y al ejecutar aparece el valor\n",
        "estudiante.pop('semestre')"
      ],
      "metadata": {
        "colab": {
          "base_uri": "https://localhost:8080/"
        },
        "id": "RVHz9BTM1jMT",
        "outputId": "ab5bf28f-8914-490f-fa9e-a3dbe3ad4ee4"
      },
      "execution_count": 49,
      "outputs": [
        {
          "output_type": "execute_result",
          "data": {
            "text/plain": [
              "5"
            ]
          },
          "metadata": {},
          "execution_count": 49
        }
      ]
    },
    {
      "cell_type": "code",
      "source": [
        "estudiante"
      ],
      "metadata": {
        "colab": {
          "base_uri": "https://localhost:8080/"
        },
        "id": "mwPdZLc-44sK",
        "outputId": "9be22f24-aeef-4ac0-fc9d-d4556a1b80ca"
      },
      "execution_count": 50,
      "outputs": [
        {
          "output_type": "execute_result",
          "data": {
            "text/plain": [
              "{'matricula': 123,\n",
              " 'fecha_ing': '01-01-2023',\n",
              " 'promedio': 9.8,\n",
              " 'modalidad': 'presencial'}"
            ]
          },
          "metadata": {},
          "execution_count": 50
        }
      ]
    },
    {
      "cell_type": "code",
      "source": [
        "estudiante.items() # => retorna una lista=>[('llave': valor),('llave': valor)] con los pares llave-valor con la estructura de tupla"
      ],
      "metadata": {
        "colab": {
          "base_uri": "https://localhost:8080/"
        },
        "id": "yS8YcELe44Zz",
        "outputId": "52da4c05-ae35-452c-c05e-de445d82ca94"
      },
      "execution_count": 51,
      "outputs": [
        {
          "output_type": "execute_result",
          "data": {
            "text/plain": [
              "dict_items([('matricula', 123), ('fecha_ing', '01-01-2023'), ('promedio', 9.8), ('modalidad', 'presencial')])"
            ]
          },
          "metadata": {},
          "execution_count": 51
        }
      ]
    },
    {
      "cell_type": "code",
      "source": [
        "estudiante.keys() # => devuelve una lista => ['key1',...,'keyx']"
      ],
      "metadata": {
        "colab": {
          "base_uri": "https://localhost:8080/"
        },
        "id": "ukhVfkb044R8",
        "outputId": "89264907-a275-4c39-f97f-e9bcf40f2efe"
      },
      "execution_count": 52,
      "outputs": [
        {
          "output_type": "execute_result",
          "data": {
            "text/plain": [
              "dict_keys(['matricula', 'fecha_ing', 'promedio', 'modalidad'])"
            ]
          },
          "metadata": {},
          "execution_count": 52
        }
      ]
    },
    {
      "cell_type": "code",
      "source": [
        "estudiante.values() # => idem anterior pero trae la lista de los valores"
      ],
      "metadata": {
        "colab": {
          "base_uri": "https://localhost:8080/"
        },
        "id": "wQ8Y0dWw7Irk",
        "outputId": "8ec3a106-168f-4fbe-f67e-3d8f6c9c3d5f"
      },
      "execution_count": 53,
      "outputs": [
        {
          "output_type": "execute_result",
          "data": {
            "text/plain": [
              "dict_values([123, '01-01-2023', 9.8, 'presencial'])"
            ]
          },
          "metadata": {},
          "execution_count": 53
        }
      ]
    },
    {
      "cell_type": "code",
      "source": [
        "for i in estudiante.keys(): # idem .values()\n",
        "  print(i)"
      ],
      "metadata": {
        "colab": {
          "base_uri": "https://localhost:8080/"
        },
        "id": "KgrFh8fh7YcK",
        "outputId": "6fb86157-d1bd-4653-bc07-63fa74a427a3"
      },
      "execution_count": 54,
      "outputs": [
        {
          "output_type": "stream",
          "name": "stdout",
          "text": [
            "matricula\n",
            "fecha_ing\n",
            "promedio\n",
            "modalidad\n"
          ]
        }
      ]
    },
    {
      "cell_type": "code",
      "source": [
        "for key,value in estudiante.items():\n",
        "  print(key,'=>',value)"
      ],
      "metadata": {
        "colab": {
          "base_uri": "https://localhost:8080/"
        },
        "id": "gt2RAJiy8g92",
        "outputId": "c88ec534-b7b3-4182-9f62-27b81e6c4236"
      },
      "execution_count": 55,
      "outputs": [
        {
          "output_type": "stream",
          "name": "stdout",
          "text": [
            "matricula => 123\n",
            "fecha_ing => 01-01-2023\n",
            "promedio => 9.8\n",
            "modalidad => presencial\n"
          ]
        }
      ]
    },
    {
      "cell_type": "code",
      "source": [
        "tienda = {'nombres': ['televisión', 'celular', 'notebook', 'geladeira', 'estufa'],\n",
        "          'precios': [2000, 1500, 3500, 4000, 1500]}\n",
        "for clave, elementos in tienda.items():\n",
        "  print(f'Clave: {clave}\\nElementos:')\n",
        "  for dato in elementos:\n",
        "    print(dato)"
      ],
      "metadata": {
        "colab": {
          "base_uri": "https://localhost:8080/"
        },
        "id": "Plh4sHMb9RyY",
        "outputId": "0f14d180-23c1-4cf4-89ef-f19d9b1aad33"
      },
      "execution_count": 56,
      "outputs": [
        {
          "output_type": "stream",
          "name": "stdout",
          "text": [
            "Clave: nombres\n",
            "Elementos:\n",
            "televisión\n",
            "celular\n",
            "notebook\n",
            "geladeira\n",
            "estufa\n",
            "Clave: precios\n",
            "Elementos:\n",
            "2000\n",
            "1500\n",
            "3500\n",
            "4000\n",
            "1500\n"
          ]
        }
      ]
    },
    {
      "cell_type": "markdown",
      "source": [
        "* Algunas de las funciones incorporadas que ya conocemos son: print(), input(), len(), int(), str(), float(), range(), chr(), etc. Pero hay otras además de estas que también son muy útiles, como: sum(), help() y dir(). ¿Las conocemos?"
      ],
      "metadata": {
        "id": "9h0nS6rD98Ic"
      }
    },
    {
      "cell_type": "code",
      "source": [
        "precios = [100.0, 400.0, 200.0]\n",
        "suma = sum(precios)\n",
        "suma"
      ],
      "metadata": {
        "colab": {
          "base_uri": "https://localhost:8080/"
        },
        "id": "vcL3Comp9-zt",
        "outputId": "79e7760f-2afb-42cb-c3f7-2a9114ca64c2"
      },
      "execution_count": 57,
      "outputs": [
        {
          "output_type": "execute_result",
          "data": {
            "text/plain": [
              "700.0"
            ]
          },
          "metadata": {},
          "execution_count": 57
        }
      ]
    },
    {
      "cell_type": "code",
      "source": [
        "help(print)"
      ],
      "metadata": {
        "colab": {
          "base_uri": "https://localhost:8080/"
        },
        "id": "ujZ3u1tL-RE8",
        "outputId": "a1d26fac-bced-4b11-ddcc-00987d6b75c9"
      },
      "execution_count": 58,
      "outputs": [
        {
          "output_type": "stream",
          "name": "stdout",
          "text": [
            "Help on built-in function print in module builtins:\n",
            "\n",
            "print(*args, sep=' ', end='\\n', file=None, flush=False)\n",
            "    Prints the values to a stream, or to sys.stdout by default.\n",
            "    \n",
            "    sep\n",
            "      string inserted between values, default a space.\n",
            "    end\n",
            "      string appended after the last value, default a newline.\n",
            "    file\n",
            "      a file-like object (stream); defaults to the current sys.stdout.\n",
            "    flush\n",
            "      whether to forcibly flush the stream.\n",
            "\n"
          ]
        }
      ]
    },
    {
      "cell_type": "code",
      "source": [
        "lista = [1,2,3]\n",
        "dir(lista)"
      ],
      "metadata": {
        "colab": {
          "base_uri": "https://localhost:8080/"
        },
        "id": "useLhta_-R3i",
        "outputId": "8e77b55e-96b7-4ad9-b6db-f65bce7129bb"
      },
      "execution_count": 59,
      "outputs": [
        {
          "output_type": "execute_result",
          "data": {
            "text/plain": [
              "['__add__',\n",
              " '__class__',\n",
              " '__class_getitem__',\n",
              " '__contains__',\n",
              " '__delattr__',\n",
              " '__delitem__',\n",
              " '__dir__',\n",
              " '__doc__',\n",
              " '__eq__',\n",
              " '__format__',\n",
              " '__ge__',\n",
              " '__getattribute__',\n",
              " '__getitem__',\n",
              " '__getstate__',\n",
              " '__gt__',\n",
              " '__hash__',\n",
              " '__iadd__',\n",
              " '__imul__',\n",
              " '__init__',\n",
              " '__init_subclass__',\n",
              " '__iter__',\n",
              " '__le__',\n",
              " '__len__',\n",
              " '__lt__',\n",
              " '__mul__',\n",
              " '__ne__',\n",
              " '__new__',\n",
              " '__reduce__',\n",
              " '__reduce_ex__',\n",
              " '__repr__',\n",
              " '__reversed__',\n",
              " '__rmul__',\n",
              " '__setattr__',\n",
              " '__setitem__',\n",
              " '__sizeof__',\n",
              " '__str__',\n",
              " '__subclasshook__',\n",
              " 'append',\n",
              " 'clear',\n",
              " 'copy',\n",
              " 'count',\n",
              " 'extend',\n",
              " 'index',\n",
              " 'insert',\n",
              " 'pop',\n",
              " 'remove',\n",
              " 'reverse',\n",
              " 'sort']"
            ]
          },
          "metadata": {},
          "execution_count": 59
        }
      ]
    },
    {
      "cell_type": "code",
      "source": [],
      "metadata": {
        "id": "onTFs7j9-W1M"
      },
      "execution_count": null,
      "outputs": []
    }
  ]
}