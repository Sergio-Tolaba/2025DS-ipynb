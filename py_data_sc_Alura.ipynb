{
  "cells": [
    {
      "cell_type": "markdown",
      "metadata": {
        "id": "view-in-github",
        "colab_type": "text"
      },
      "source": [
        "<a href=\"https://colab.research.google.com/github/Sergio-Tolaba/2025DS-ipynb/blob/main/py_data_sc_Alura.ipynb\" target=\"_parent\"><img src=\"https://colab.research.google.com/assets/colab-badge.svg\" alt=\"Open In Colab\"/></a>"
      ]
    },
    {
      "cell_type": "markdown",
      "metadata": {
        "id": "ezdG-Acq-c6T"
      },
      "source": [
        "## Python Data Science (texto = mark down)"
      ]
    },
    {
      "cell_type": "code",
      "execution_count": null,
      "metadata": {
        "id": "63Hty-dCHTfQ"
      },
      "outputs": [],
      "source": [
        "print(\"Hola Ciencia de datos con python\")"
      ]
    },
    {
      "cell_type": "code",
      "execution_count": null,
      "metadata": {
        "id": "XO9rewYOHTfR"
      },
      "outputs": [],
      "source": []
    },
    {
      "cell_type": "markdown",
      "metadata": {
        "id": "Yrkd9HlIIWo7"
      },
      "source": [
        "## 01.Comenzando con Python 08 Desafío"
      ]
    },
    {
      "cell_type": "markdown",
      "metadata": {
        "id": "dLvu1KmcJW7W"
      },
      "source": [
        "1 - Imprime la frase \"Escuela de Datos de Alura\".\n",
        "\n",
        "2 - Imprime tu nombre y tu apellido siguiendo la estructura a continuación:                                 \n",
        "Nombre: [tu nombre]\n",
        "Apellido: [tu apellido]"
      ]
    },
    {
      "cell_type": "code",
      "execution_count": null,
      "metadata": {
        "colab": {
          "base_uri": "https://localhost:8080/"
        },
        "id": "6N-U_Dd4Id_z",
        "outputId": "1292326c-8cb8-48cc-9be0-96745a33e259"
      },
      "outputs": [
        {
          "name": "stdout",
          "output_type": "stream",
          "text": [
            "Escuela de Datos de Alura\n",
            "Nombre: Sergio\n",
            "Apellido: Toli\n"
          ]
        }
      ],
      "source": [
        "print(\"Escuela de Datos de Alura\")\n",
        "print(\"Nombre: Sergio\")\n",
        "print(\"Apellido: Toli\")"
      ]
    },
    {
      "cell_type": "markdown",
      "metadata": {
        "id": "Ge8wkcwUKFqa"
      },
      "source": [
        "3 - Imprime tu primer nombre letra por letra. Por ejemplo, si mi nombre es Álvaro, la salida sería:\n",
        "\n",
        "Á\n",
        "L\n",
        "V\n",
        "A\n",
        "R\n",
        "O"
      ]
    },
    {
      "cell_type": "code",
      "execution_count": null,
      "metadata": {
        "colab": {
          "base_uri": "https://localhost:8080/"
        },
        "id": "9BMWrgFcKIAH",
        "outputId": "7376563a-b20b-4f37-a88f-23cd8fc988da"
      },
      "outputs": [
        {
          "name": "stdout",
          "output_type": "stream",
          "text": [
            "S\n",
            "e\n",
            "r\n",
            "g\n",
            "i\n",
            "o\n",
            "\n",
            "\n",
            "\n",
            "S\n",
            "e\n",
            "r\n"
          ]
        }
      ],
      "source": [
        "name =\"Sergio\"\n",
        "for letter in name:\n",
        "  print(letter)\n",
        "# Solución más simple\n",
        "print('')       # un salto de línea (línea en blanco)\n",
        "print(\"\\n\")     # otro salto de línea (también imprime una línea en blanco)\n",
        "print(\"S\")\n",
        "print(\"e\")\n",
        "print(\"r\")"
      ]
    },
    {
      "cell_type": "markdown",
      "metadata": {
        "id": "YDJwz1d7MVdS"
      },
      "source": []
    },
    {
      "cell_type": "markdown",
      "metadata": {
        "id": "hFtRiiT7MUOy"
      },
      "source": [
        "4 - Imprime tu fecha de nacimiento en formato día mes año. Recuerda que los valores de día y año no deben estar entre comillas. Suponiendo una fecha de cumpleaños el 28 de febrero de 2003, el formato debe ser como el siguiente: 28 febrero 2003"
      ]
    },
    {
      "cell_type": "markdown",
      "metadata": {
        "id": "YcS1CXuqMTce"
      },
      "source": []
    },
    {
      "cell_type": "code",
      "execution_count": null,
      "metadata": {
        "colab": {
          "base_uri": "https://localhost:8080/"
        },
        "id": "4zMU6kDFMXs6",
        "outputId": "49037e65-2088-40a6-891f-784a2f43da9f"
      },
      "outputs": [
        {
          "name": "stdout",
          "output_type": "stream",
          "text": [
            "5 April 1965\n",
            "5 April 1965\n"
          ]
        }
      ],
      "source": [
        "day = 5 # 05 no está permitido, salvo que pongas \"05\" es decir como string (str)\n",
        "month = \"April\"\n",
        "year = 1965\n",
        "print(day, month, year)\n",
        "# f string\n",
        "print(f\"{day} {month} {year}\")\n"
      ]
    },
    {
      "cell_type": "markdown",
      "metadata": {
        "id": "EjPqPiQ1OVP2"
      },
      "source": [
        "5 - Imprime, en una sola instrucción print, el año actual en el que estás realizando este curso. El valor del año debe ser un dato numérico, y la salida de print debe ser la siguiente:\n",
        "\n",
        "Año actual: [año]"
      ]
    },
    {
      "cell_type": "code",
      "execution_count": null,
      "metadata": {
        "colab": {
          "base_uri": "https://localhost:8080/"
        },
        "id": "llB1No5COWkj",
        "outputId": "77b229b8-82db-4575-82b0-86cd431770e4"
      },
      "outputs": [
        {
          "name": "stdout",
          "output_type": "stream",
          "text": [
            "Año actual: 2025\n"
          ]
        }
      ],
      "source": [
        "anio_actual = 2025\n",
        "print(f\"Año actual: {anio_actual}\")"
      ]
    },
    {
      "cell_type": "code",
      "source": [
        "texto = '  sey   ' # =>SER\n",
        "id(texto)"
      ],
      "metadata": {
        "colab": {
          "base_uri": "https://localhost:8080/"
        },
        "id": "qzv2SiOMHd4O",
        "outputId": "bb780fc5-a5ad-4c44-88ad-43d341fd4a3c"
      },
      "execution_count": 1,
      "outputs": [
        {
          "output_type": "execute_result",
          "data": {
            "text/plain": [
              "138172627964272"
            ]
          },
          "metadata": {},
          "execution_count": 1
        }
      ]
    },
    {
      "cell_type": "code",
      "source": [
        "texto1 = texto.strip().replace('y','r').upper()\n",
        "print(texto, texto1)\n",
        "id(texto), id(texto1)"
      ],
      "metadata": {
        "colab": {
          "base_uri": "https://localhost:8080/"
        },
        "id": "OVZDxi1wH5CG",
        "outputId": "3e2e7c3e-6a02-4e16-d9b2-25c4a03d2d0d"
      },
      "execution_count": 3,
      "outputs": [
        {
          "output_type": "stream",
          "name": "stdout",
          "text": [
            "  sey    SER\n"
          ]
        },
        {
          "output_type": "execute_result",
          "data": {
            "text/plain": [
              "(138172627964272, 138172150600432)"
            ]
          },
          "metadata": {},
          "execution_count": 3
        }
      ]
    },
    {
      "cell_type": "code",
      "source": [
        "print('github')"
      ],
      "metadata": {
        "colab": {
          "base_uri": "https://localhost:8080/"
        },
        "id": "QSeMmIxSNaJS",
        "outputId": "8d6bdfcc-2ac8-4ba2-ee41-c0dbec3f74c3"
      },
      "execution_count": 4,
      "outputs": [
        {
          "output_type": "stream",
          "name": "stdout",
          "text": [
            "github\n"
          ]
        }
      ]
    },
    {
      "cell_type": "code",
      "source": [],
      "metadata": {
        "id": "165psBscNfIp"
      },
      "execution_count": null,
      "outputs": []
    }
  ],
  "metadata": {
    "colab": {
      "provenance": [],
      "include_colab_link": true
    },
    "kernelspec": {
      "display_name": "Python 3",
      "name": "python3"
    },
    "language_info": {
      "name": "python"
    }
  },
  "nbformat": 4,
  "nbformat_minor": 0
}