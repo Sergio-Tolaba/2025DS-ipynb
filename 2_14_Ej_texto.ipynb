{
  "nbformat": 4,
  "nbformat_minor": 0,
  "metadata": {
    "colab": {
      "provenance": [],
      "authorship_tag": "ABX9TyOmKVYwPuuAiUTpNBUH+6x2",
      "include_colab_link": true
    },
    "kernelspec": {
      "name": "python3",
      "display_name": "Python 3"
    },
    "language_info": {
      "name": "python"
    }
  },
  "cells": [
    {
      "cell_type": "markdown",
      "metadata": {
        "id": "view-in-github",
        "colab_type": "text"
      },
      "source": [
        "<a href=\"https://colab.research.google.com/github/Sergio-Tolaba/2025DS-ipynb/blob/main/2_14_Ej_texto.ipynb\" target=\"_parent\"><img src=\"https://colab.research.google.com/assets/colab-badge.svg\" alt=\"Open In Colab\"/></a>"
      ]
    },
    {
      "cell_type": "code",
      "execution_count": null,
      "metadata": {
        "id": "ccJsbc2Sv5_C"
      },
      "outputs": [],
      "source": []
    },
    {
      "cell_type": "markdown",
      "source": [
        "# Editando textos\n",
        "14 - Crea una variable llamada \"frase\" y asígnale una cadena de texto de tu elección. Luego, imprime la frase en pantalla."
      ],
      "metadata": {
        "id": "ov-SY3XIwCRW"
      }
    },
    {
      "cell_type": "code",
      "source": [
        "frase = \"Te deseo muy buen día\"\n",
        "frase"
      ],
      "metadata": {
        "id": "G67pfVcxwLJa"
      },
      "execution_count": null,
      "outputs": []
    }
  ]
}