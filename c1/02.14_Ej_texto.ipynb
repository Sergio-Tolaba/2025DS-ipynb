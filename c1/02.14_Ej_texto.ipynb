{
  "nbformat": 4,
  "nbformat_minor": 0,
  "metadata": {
    "colab": {
      "provenance": [],
      "authorship_tag": "ABX9TyNMK4XyFysrt/LRNqsIE/69",
      "include_colab_link": true
    },
    "kernelspec": {
      "name": "python3",
      "display_name": "Python 3"
    },
    "language_info": {
      "name": "python"
    }
  },
  "cells": [
    {
      "cell_type": "markdown",
      "metadata": {
        "id": "view-in-github",
        "colab_type": "text"
      },
      "source": [
        "<a href=\"https://colab.research.google.com/github/Sergio-Tolaba/2025DS-ipynb/blob/main/2_14_Ej_texto.ipynb\" target=\"_parent\"><img src=\"https://colab.research.google.com/assets/colab-badge.svg\" alt=\"Open In Colab\"/></a>"
      ]
    },
    {
      "cell_type": "markdown",
      "source": [
        "# Editando textos\n",
        "14 - Crea una variable llamada \"frase\" y asígnale una cadena de texto de tu elección. Luego, imprime la frase en pantalla."
      ],
      "metadata": {
        "id": "ov-SY3XIwCRW"
      }
    },
    {
      "cell_type": "code",
      "source": [
        "frase = \"Te deseo muy buen día\"\n",
        "frase"
      ],
      "metadata": {
        "id": "G67pfVcxwLJa"
      },
      "execution_count": null,
      "outputs": []
    },
    {
      "cell_type": "markdown",
      "source": [
        "15 - Crea un código que solicite una frase y luego imprima la frase en pantalla."
      ],
      "metadata": {
        "id": "AwJIClAfwpSS"
      }
    },
    {
      "cell_type": "code",
      "source": [
        "tu_frase = input(\"Dime una frase: \")\n",
        "print(tu_frase)"
      ],
      "metadata": {
        "id": "yOHh9Mz_wxSJ",
        "colab": {
          "base_uri": "https://localhost:8080/"
        },
        "outputId": "07d79998-0908-47e9-843d-4e2deb624cc8"
      },
      "execution_count": 2,
      "outputs": [
        {
          "output_type": "stream",
          "name": "stdout",
          "text": [
            "Dime una frase: Sonrie y sé feliz\n",
            "Sonrie y sé feliz\n"
          ]
        }
      ]
    },
    {
      "cell_type": "markdown",
      "source": [
        "16 - Crea un código que solicite una frase al usuario y luego imprima la misma frase ingresada pero en mayúsculas.\n"
      ],
      "metadata": {
        "id": "N_RLD2MR1hPf"
      }
    },
    {
      "cell_type": "code",
      "source": [
        "frase_mayus = input(\"Dime una frase: \")\n",
        "print(frase_mayus.upper())"
      ],
      "metadata": {
        "colab": {
          "base_uri": "https://localhost:8080/"
        },
        "id": "mwPoOnQP1nVZ",
        "outputId": "ef3e7459-fdd1-4430-a381-7ba211e19045"
      },
      "execution_count": 3,
      "outputs": [
        {
          "output_type": "stream",
          "name": "stdout",
          "text": [
            "Dime una frase: Los hermanos se han unido porque esa es la ley primera\n",
            "LOS HERMANOS SE HAN UNIDO PORQUE ESA ES LA LEY PRIMERA\n"
          ]
        }
      ]
    },
    {
      "cell_type": "markdown",
      "source": [
        "17 - Crea un código que solicite una frase al usuario y luego imprima la misma frase ingresada pero en minúsculas."
      ],
      "metadata": {
        "id": "IAr9BtHs2aZV"
      }
    },
    {
      "cell_type": "code",
      "source": [
        "frase_minus = input(\"Dime una frase: \")\n",
        "print(frase_minus.lower())"
      ],
      "metadata": {
        "colab": {
          "base_uri": "https://localhost:8080/"
        },
        "id": "NZqeqSde2dpr",
        "outputId": "760b8c6d-24e8-4477-b4ab-f576937ae42f"
      },
      "execution_count": 4,
      "outputs": [
        {
          "output_type": "stream",
          "name": "stdout",
          "text": [
            "Dime una frase: LA VIDA ES BElla\n",
            "la vida es bella\n"
          ]
        }
      ]
    },
    {
      "cell_type": "markdown",
      "source": [
        "18 - Crea una variable llamada \"frase\" y asígnale una cadena de texto de tu elección. Luego, imprime la frase sin espacios en blanco al principio y al final."
      ],
      "metadata": {
        "id": "x43jovGN2wi5"
      }
    },
    {
      "cell_type": "code",
      "source": [
        "frase=\" Todos somos unos Campeones   \"\n",
        "frase.strip()"
      ],
      "metadata": {
        "colab": {
          "base_uri": "https://localhost:8080/",
          "height": 35
        },
        "id": "Ja_iOnb120Pg",
        "outputId": "c194537b-a544-4e0e-ecf6-977c037dc6c2"
      },
      "execution_count": 6,
      "outputs": [
        {
          "output_type": "execute_result",
          "data": {
            "text/plain": [
              "'Todos somos unos Campeones'"
            ],
            "application/vnd.google.colaboratory.intrinsic+json": {
              "type": "string"
            }
          },
          "metadata": {},
          "execution_count": 6
        }
      ]
    },
    {
      "cell_type": "markdown",
      "source": [
        "19 - Crea un código que solicite una frase al usuario y luego imprima la misma frase sin espacios en blanco al principio y al final."
      ],
      "metadata": {
        "id": "n-z29ZeY3Od1"
      }
    },
    {
      "cell_type": "code",
      "source": [
        "frase_sin_espacios = input(\"Escribe espacios al inicio y al final de la frase: \")\n",
        "print(frase_sin_espacios.strip())"
      ],
      "metadata": {
        "colab": {
          "base_uri": "https://localhost:8080/"
        },
        "id": "HER60Qw73OK0",
        "outputId": "6a5c3cce-f6c3-4fa3-e05f-c9f3c5471917"
      },
      "execution_count": 7,
      "outputs": [
        {
          "output_type": "stream",
          "name": "stdout",
          "text": [
            "Escribe espacios al inicio y al final de la frase:   Vayaos al cine      \n",
            "Vayaos al cine\n"
          ]
        }
      ]
    },
    {
      "cell_type": "markdown",
      "source": [
        "20 - Crea un código que solicite una frase al usuario y luego imprima la misma frase sin espacios en blanco al principio y al final, además de convertirla a minúsculas."
      ],
      "metadata": {
        "id": "rSQyrrg735AH"
      }
    },
    {
      "cell_type": "code",
      "source": [
        "frase_sin_espacios_minus = input(\"Escribe espacios al inicio y al final de la frase: \")\n",
        "print(frase_sin_espacios_minus.strip().lower())"
      ],
      "metadata": {
        "colab": {
          "base_uri": "https://localhost:8080/"
        },
        "id": "Fc8tzK9x3K77",
        "outputId": "3e246a92-e2ab-4c3e-e81f-c7e2891bd6a2"
      },
      "execution_count": 8,
      "outputs": [
        {
          "output_type": "stream",
          "name": "stdout",
          "text": [
            "Escribe espacios al inicio y al final de la frase:   QUEREMOS COMER     \n",
            "queremos comer\n"
          ]
        }
      ]
    },
    {
      "cell_type": "markdown",
      "source": [
        "21 - Crea un código que solicite una frase al usuario y luego imprima la misma frase con todas las vocales \"e\" reemplazadas por la letra \"f\".\n"
      ],
      "metadata": {
        "id": "aIkhycYn4X-b"
      }
    },
    {
      "cell_type": "code",
      "source": [
        "encuesta = input('¿Cóme fue la atención telefónica? ')\n",
        "encuesta.repla                                                                                        ce('e', 'f')"
      ],
      "metadata": {
        "colab": {
          "base_uri": "https://localhost:8080/",
          "height": 53
        },
        "id": "JK66lZUq4nPa",
        "outputId": "3224337c-7039-4764-d2c0-1b52e32bb32a"
      },
      "execution_count": 10,
      "outputs": [
        {
          "name": "stdout",
          "output_type": "stream",
          "text": [
            "¿Cóme fue la atención telefónica? Fue buena\n"
          ]
        },
        {
          "output_type": "execute_result",
          "data": {
            "text/plain": [
              "'Fuf bufna'"
            ],
            "application/vnd.google.colaboratory.intrinsic+json": {
              "type": "string"
            }
          },
          "metadata": {},
          "execution_count": 10
        }
      ]
    },
    {
      "cell_type": "markdown",
      "source": [
        "22 - Crea un código que solicite una frase al usuario y luego imprima la misma frase con todas las vocales \"a\" reemplazadas por el carácter \"@\"."
      ],
      "metadata": {
        "id": "ZTdN4tmA-d-i"
      }
    },
    {
      "cell_type": "code",
      "source": [
        "ord(\"a\")\n",
        "ord('@')\n",
        "frase = input('Digita una frase')\n",
        "frase.replace(chr(97), chr(64))"
      ],
      "metadata": {
        "colab": {
          "base_uri": "https://localhost:8080/",
          "height": 53
        },
        "id": "By4l-kNO-iDU",
        "outputId": "14fd0206-418d-4406-c03e-0d04e7ff0e73"
      },
      "execution_count": 12,
      "outputs": [
        {
          "name": "stdout",
          "output_type": "stream",
          "text": [
            "Digita una fraseMi mamá me ama\n"
          ]
        },
        {
          "output_type": "execute_result",
          "data": {
            "text/plain": [
              "'Mi m@má me @m@'"
            ],
            "application/vnd.google.colaboratory.intrinsic+json": {
              "type": "string"
            }
          },
          "metadata": {},
          "execution_count": 12
        }
      ]
    },
    {
      "cell_type": "markdown",
      "source": [
        "23 - Crea un código que solicite una frase al usuario y luego imprima la misma frase con todas las consonantes \"s\" reemplazadas por el carácter \"$\".\n"
      ],
      "metadata": {
        "id": "mGcO75rvAPC7"
      }
    },
    {
      "cell_type": "code",
      "source": [
        "mis_costos= input('Detalla dos productos y sus precios:')\n",
        "mis_costos.replace('s','$')\n"
      ],
      "metadata": {
        "colab": {
          "base_uri": "https://localhost:8080/",
          "height": 53
        },
        "id": "bSI0qBBjAUwx",
        "outputId": "e24ee9fd-db41-4404-b3b7-fd3adad23b47"
      },
      "execution_count": 13,
      "outputs": [
        {
          "name": "stdout",
          "output_type": "stream",
          "text": [
            "Detalla dos productos y sus precios:sopa s240 y sobre s15\n"
          ]
        },
        {
          "output_type": "execute_result",
          "data": {
            "text/plain": [
              "'$opa $240 y $obre $15'"
            ],
            "application/vnd.google.colaboratory.intrinsic+json": {
              "type": "string"
            }
          },
          "metadata": {},
          "execution_count": 13
        }
      ]
    }
  ]
}