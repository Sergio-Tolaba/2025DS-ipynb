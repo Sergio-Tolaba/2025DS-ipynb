{
  "cells": [
    {
      "cell_type": "markdown",
      "metadata": {
        "id": "view-in-github",
        "colab_type": "text"
      },
      "source": [
        "<a href=\"https://colab.research.google.com/github/Sergio-Tolaba/2025DS-ipynb/blob/main/2.14%20Ej.ipynb\" target=\"_parent\"><img src=\"https://colab.research.google.com/assets/colab-badge.svg\" alt=\"Open In Colab\"/></a>"
      ]
    },
    {
      "cell_type": "markdown",
      "metadata": {
        "id": "ezdG-Acq-c6T"
      },
      "source": [
        "## Python Data Science (texto = mark down)"
      ]
    },
    {
      "cell_type": "code",
      "execution_count": null,
      "metadata": {
        "id": "63Hty-dCHTfQ"
      },
      "outputs": [],
      "source": [
        "print(\"Hola Ciencia de datos con python\")"
      ]
    },
    {
      "cell_type": "code",
      "execution_count": null,
      "metadata": {
        "id": "XO9rewYOHTfR"
      },
      "outputs": [],
      "source": []
    },
    {
      "cell_type": "markdown",
      "metadata": {
        "id": "Yrkd9HlIIWo7"
      },
      "source": [
        "## 01.Comenzando con Python 08 Desafío"
      ]
    },
    {
      "cell_type": "markdown",
      "metadata": {
        "id": "dLvu1KmcJW7W"
      },
      "source": [
        "1 - Imprime la frase \"Escuela de Datos de Alura\".\n",
        "\n",
        "2 - Imprime tu nombre y tu apellido siguiendo la estructura a continuación:                                 \n",
        "Nombre: [tu nombre]\n",
        "Apellido: [tu apellido]"
      ]
    },
    {
      "cell_type": "code",
      "execution_count": null,
      "metadata": {
        "colab": {
          "base_uri": "https://localhost:8080/"
        },
        "id": "6N-U_Dd4Id_z",
        "outputId": "1292326c-8cb8-48cc-9be0-96745a33e259"
      },
      "outputs": [
        {
          "name": "stdout",
          "output_type": "stream",
          "text": [
            "Escuela de Datos de Alura\n",
            "Nombre: Sergio\n",
            "Apellido: Toli\n"
          ]
        }
      ],
      "source": [
        "print(\"Escuela de Datos de Alura\")\n",
        "print(\"Nombre: Sergio\")\n",
        "print(\"Apellido: Toli\")"
      ]
    },
    {
      "cell_type": "markdown",
      "metadata": {
        "id": "Ge8wkcwUKFqa"
      },
      "source": [
        "3 - Imprime tu primer nombre letra por letra. Por ejemplo, si mi nombre es Álvaro, la salida sería:\n",
        "\n",
        "Á\n",
        "L\n",
        "V\n",
        "A\n",
        "R\n",
        "O"
      ]
    },
    {
      "cell_type": "code",
      "execution_count": null,
      "metadata": {
        "colab": {
          "base_uri": "https://localhost:8080/"
        },
        "id": "9BMWrgFcKIAH",
        "outputId": "7376563a-b20b-4f37-a88f-23cd8fc988da"
      },
      "outputs": [
        {
          "name": "stdout",
          "output_type": "stream",
          "text": [
            "S\n",
            "e\n",
            "r\n",
            "g\n",
            "i\n",
            "o\n",
            "\n",
            "\n",
            "\n",
            "S\n",
            "e\n",
            "r\n"
          ]
        }
      ],
      "source": [
        "name =\"Sergio\"\n",
        "for letter in name:\n",
        "  print(letter)\n",
        "# Solución más simple\n",
        "print('')       # un salto de línea (línea en blanco)\n",
        "print(\"\\n\")     # otro salto de línea (también imprime una línea en blanco)\n",
        "print(\"S\")\n",
        "print(\"e\")\n",
        "print(\"r\")"
      ]
    },
    {
      "cell_type": "markdown",
      "metadata": {
        "id": "YDJwz1d7MVdS"
      },
      "source": []
    },
    {
      "cell_type": "markdown",
      "metadata": {
        "id": "hFtRiiT7MUOy"
      },
      "source": [
        "4 - Imprime tu fecha de nacimiento en formato día mes año. Recuerda que los valores de día y año no deben estar entre comillas. Suponiendo una fecha de cumpleaños el 28 de febrero de 2003, el formato debe ser como el siguiente: 28 febrero 2003"
      ]
    },
    {
      "cell_type": "markdown",
      "metadata": {
        "id": "YcS1CXuqMTce"
      },
      "source": []
    },
    {
      "cell_type": "code",
      "execution_count": null,
      "metadata": {
        "colab": {
          "base_uri": "https://localhost:8080/"
        },
        "id": "4zMU6kDFMXs6",
        "outputId": "49037e65-2088-40a6-891f-784a2f43da9f"
      },
      "outputs": [
        {
          "name": "stdout",
          "output_type": "stream",
          "text": [
            "5 April 1965\n",
            "5 April 1965\n"
          ]
        }
      ],
      "source": [
        "day = 5 # 05 no está permitido, salvo que pongas \"05\" es decir como string (str)\n",
        "month = \"April\"\n",
        "year = 1965\n",
        "print(day, month, year)\n",
        "# f string\n",
        "print(f\"{day} {month} {year}\")\n"
      ]
    },
    {
      "cell_type": "markdown",
      "metadata": {
        "id": "EjPqPiQ1OVP2"
      },
      "source": [
        "5 - Imprime, en una sola instrucción print, el año actual en el que estás realizando este curso. El valor del año debe ser un dato numérico, y la salida de print debe ser la siguiente:\n",
        "\n",
        "Año actual: [año]"
      ]
    },
    {
      "cell_type": "code",
      "execution_count": null,
      "metadata": {
        "colab": {
          "base_uri": "https://localhost:8080/"
        },
        "id": "llB1No5COWkj",
        "outputId": "77b229b8-82db-4575-82b0-86cd431770e4"
      },
      "outputs": [
        {
          "name": "stdout",
          "output_type": "stream",
          "text": [
            "Año actual: 2025\n"
          ]
        }
      ],
      "source": [
        "anio_actual = 2025\n",
        "print(f\"Año actual: {anio_actual}\")"
      ]
    },
    {
      "cell_type": "code",
      "source": [
        "texto = '  sey   ' # =>SER\n",
        "id(texto)"
      ],
      "metadata": {
        "colab": {
          "base_uri": "https://localhost:8080/"
        },
        "id": "qzv2SiOMHd4O",
        "outputId": "bb780fc5-a5ad-4c44-88ad-43d341fd4a3c"
      },
      "execution_count": null,
      "outputs": [
        {
          "output_type": "execute_result",
          "data": {
            "text/plain": [
              "138172627964272"
            ]
          },
          "metadata": {},
          "execution_count": 1
        }
      ]
    },
    {
      "cell_type": "code",
      "source": [
        "texto1 = texto.strip().replace('y','r').upper()\n",
        "print(texto, texto1)\n",
        "id(texto), id(texto1)"
      ],
      "metadata": {
        "colab": {
          "base_uri": "https://localhost:8080/"
        },
        "id": "OVZDxi1wH5CG",
        "outputId": "3e2e7c3e-6a02-4e16-d9b2-25c4a03d2d0d"
      },
      "execution_count": null,
      "outputs": [
        {
          "output_type": "stream",
          "name": "stdout",
          "text": [
            "  sey    SER\n"
          ]
        },
        {
          "output_type": "execute_result",
          "data": {
            "text/plain": [
              "(138172627964272, 138172150600432)"
            ]
          },
          "metadata": {},
          "execution_count": 3
        }
      ]
    },
    {
      "cell_type": "markdown",
      "source": [
        "#2.10 input()=>str, int(input()), float(input()), print(f'El nombre es {nombre})"
      ],
      "metadata": {
        "id": "yTVnRxipUqV5"
      }
    },
    {
      "cell_type": "code",
      "source": [
        "name=input('Captura de datos, ingresa tu nombre: ')"
      ],
      "metadata": {
        "colab": {
          "base_uri": "https://localhost:8080/"
        },
        "id": "QSeMmIxSNaJS",
        "outputId": "d7ae98af-eebb-4522-80e9-f5ec26bc8504"
      },
      "execution_count": null,
      "outputs": [
        {
          "name": "stdout",
          "output_type": "stream",
          "text": [
            "Captura de datos, ingresa tu nombre: Omar\n"
          ]
        }
      ]
    },
    {
      "cell_type": "code",
      "source": [
        "name"
      ],
      "metadata": {
        "colab": {
          "base_uri": "https://localhost:8080/",
          "height": 35
        },
        "id": "165psBscNfIp",
        "outputId": "250ce845-617e-491b-8219-bc95745f519e"
      },
      "execution_count": null,
      "outputs": [
        {
          "output_type": "execute_result",
          "data": {
            "text/plain": [
              "'Omar'"
            ],
            "application/vnd.google.colaboratory.intrinsic+json": {
              "type": "string"
            }
          },
          "metadata": {},
          "execution_count": 8
        }
      ]
    },
    {
      "cell_type": "code",
      "source": [
        "entero = int(input('Ingresa un entero: '))"
      ],
      "metadata": {
        "colab": {
          "base_uri": "https://localhost:8080/"
        },
        "id": "ekacNjF2Q4qb",
        "outputId": "7cb6fa19-f6e8-4ffa-9e81-027f18120c81"
      },
      "execution_count": null,
      "outputs": [
        {
          "name": "stdout",
          "output_type": "stream",
          "text": [
            "Ingresa un entero: 28\n"
          ]
        }
      ]
    },
    {
      "cell_type": "code",
      "source": [
        "calculo = entero +2\n",
        "calculo"
      ],
      "metadata": {
        "colab": {
          "base_uri": "https://localhost:8080/"
        },
        "id": "hSgG4c34U2J3",
        "outputId": "5f61ec8c-823e-4487-92be-48f7264326d8"
      },
      "execution_count": null,
      "outputs": [
        {
          "output_type": "execute_result",
          "data": {
            "text/plain": [
              "30"
            ]
          },
          "metadata": {},
          "execution_count": 10
        }
      ]
    },
    {
      "cell_type": "code",
      "source": [
        "chr(64)  #tabla unicode(amplia la tabla ascii)"
      ],
      "metadata": {
        "colab": {
          "base_uri": "https://localhost:8080/",
          "height": 35
        },
        "id": "4CorIexbU_LS",
        "outputId": "0e6df120-b3f2-46aa-d1ba-139dee631018"
      },
      "execution_count": null,
      "outputs": [
        {
          "output_type": "execute_result",
          "data": {
            "text/plain": [
              "'@'"
            ],
            "application/vnd.google.colaboratory.intrinsic+json": {
              "type": "string"
            }
          },
          "metadata": {},
          "execution_count": 12
        }
      ]
    },
    {
      "cell_type": "markdown",
      "source": [
        "## 14 Desafío: ¡Es hora de practicar!\n",
        "1 - Crea un programa que solic-ite al usuario que escriba su nombre y luego imprima \"Hola, [nombre].\""
      ],
      "metadata": {
        "id": "C7yaQXGITCLI"
      }
    },
    {
      "cell_type": "code",
      "source": [
        "nombre = input(\"Escribe tu nombre: \")\n",
        "print(f\"Hola, {nombre}.\")"
      ],
      "metadata": {
        "colab": {
          "base_uri": "https://localhost:8080/"
        },
        "id": "VXtpIzSearVg",
        "outputId": "234f175b-5d8f-48e3-f1dc-2ebefe6c19fa"
      },
      "execution_count": null,
      "outputs": [
        {
          "output_type": "stream",
          "name": "stdout",
          "text": [
            "Escribe tu nombre: Sergio\n",
            "Hola, Sergio.\n"
          ]
        }
      ]
    },
    {
      "cell_type": "markdown",
      "source": [
        "2 - Crea un programa que solicite al usuario que escriba su nombre y edad, y luego imprima \"Hola, [nombre], tienes [edad] años.\""
      ],
      "metadata": {
        "id": "bef4l1A_dVs4"
      }
    },
    {
      "cell_type": "code",
      "source": [
        "nombre = input('¿Como es tu nombre? ')\n",
        "edad = input('Cuántos años tienes? ')\n",
        "print('Hola '+ nombre + ', tienes ' + edad + ' años.')"
      ],
      "metadata": {
        "id": "Vex_rKQgbRDA",
        "colab": {
          "base_uri": "https://localhost:8080/"
        },
        "outputId": "a0681035-313b-43c2-d2a0-c0018e01d57e"
      },
      "execution_count": null,
      "outputs": [
        {
          "output_type": "stream",
          "name": "stdout",
          "text": [
            "¿Como es tu nombre? Ser\n",
            "Cuántos años tienes? 61\n",
            "Hola Ser, tienes 61 años.\n"
          ]
        }
      ]
    },
    {
      "cell_type": "markdown",
      "source": [
        "3 - Crea un programa que solicite al usuario que escriba su nombre, edad y altura en metros, y luego imprima \"Hola, [nombre], tienes [edad] años y mides [altura] metros.\""
      ],
      "metadata": {
        "id": "lDHs0BQrehjF"
      }
    },
    {
      "cell_type": "code",
      "source": [
        "nombre = input('Anota tu nombre: ')\n",
        "edad = input('Anota tu edad: ')\n",
        "altura = input('Anota tu altura en metros: ')\n",
        "print(f'Hola {nombre}, tienes {edad} años y mides {altura} metro')"
      ],
      "metadata": {
        "colab": {
          "base_uri": "https://localhost:8080/"
        },
        "id": "2D1wMT15emfQ",
        "outputId": "15208b4d-ac9e-4d99-f6bd-688637dc6381"
      },
      "execution_count": null,
      "outputs": [
        {
          "output_type": "stream",
          "name": "stdout",
          "text": [
            "Anota tu nombre: María\n",
            "Anota tu edad: 25\n",
            "Anota tu altura en metros: 1.65\n",
            "Hola María, tienes 25 años y mides 1.65 metro\n"
          ]
        }
      ]
    },
    {
      "cell_type": "markdown",
      "source": [
        "4 - Crea un programa que solicite dos valores numéricos al usuario y luego imprima la suma de ambos valores."
      ],
      "metadata": {
        "id": "vVFkFCiKfJvL"
      }
    },
    {
      "cell_type": "code",
      "source": [
        "num1 =float(input('Ingesa un número: '))\n",
        "num2 =float(input('Ingesa otro número: '))\n",
        "suma = num1 + num2\n",
        "print(f'La suma de {num1} y {num2} es {suma}')"
      ],
      "metadata": {
        "colab": {
          "base_uri": "https://localhost:8080/"
        },
        "id": "J0ndimxafPdC",
        "outputId": "fac7a13c-1ff9-4b93-cace-7a5496cfc004"
      },
      "execution_count": null,
      "outputs": [
        {
          "output_type": "stream",
          "name": "stdout",
          "text": [
            "Ingesa un número: 55.5\n",
            "Ingesa otro número: 21.65\n",
            "La suma de 55.5 y 21.65 es 77.15\n"
          ]
        }
      ]
    },
    {
      "cell_type": "markdown",
      "source": [
        "5 - Crea un programa que solicite tres valores numéricos al usuario y luego imprima la suma de los tres valores."
      ],
      "metadata": {
        "id": "VXX-m3ypfscM"
      }
    },
    {
      "cell_type": "code",
      "source": [
        "n1, n2, n3 = float(input('Ingresa un número: ')), float(input('Ingresa otro número: ')), float(input('Ingresa otro número: '))\n",
        "print(f'La suma de {n1} + {n2} + {n3} es {n1+n2+n3}')"
      ],
      "metadata": {
        "colab": {
          "base_uri": "https://localhost:8080/"
        },
        "id": "ovL93LQJfwJ3",
        "outputId": "4a8792f2-b304-4905-f82e-df52f15af091"
      },
      "execution_count": null,
      "outputs": [
        {
          "output_type": "stream",
          "name": "stdout",
          "text": [
            "Ingresa un número: 2\n",
            "Ingresa otro número: 5\n",
            "Ingresa otro número: 9\n",
            "La suma de 2.0 + 5.0 + 9.0 es 16.0\n"
          ]
        }
      ]
    },
    {
      "cell_type": "markdown",
      "source": [
        "6 - Crea un programa que solicite dos valores numéricos al usuario y luego imprima la resta del primero menos el segundo valor."
      ],
      "metadata": {
        "id": "JS3pWspygREY"
      }
    },
    {
      "cell_type": "code",
      "source": [
        "x,y =int(input('x= ')), int(input('y= '))\n",
        "print(f'La resta de {x} - {y} es {x-y}')"
      ],
      "metadata": {
        "colab": {
          "base_uri": "https://localhost:8080/"
        },
        "id": "c3C_kWXhgWgk",
        "outputId": "c0dfa4fb-d78f-4f46-e4e1-5aa3ccffa36d"
      },
      "execution_count": null,
      "outputs": [
        {
          "output_type": "stream",
          "name": "stdout",
          "text": [
            "x= 10\n",
            "y= 2\n",
            "La resta de 10 - 2 es 8\n"
          ]
        }
      ]
    },
    {
      "cell_type": "markdown",
      "source": [
        "7 - Crea un programa que solicite dos valores numéricos al usuario y luego imprima la multiplicación de los dos valores.\n"
      ],
      "metadata": {
        "id": "OblF0cVpg0TJ"
      }
    },
    {
      "cell_type": "code",
      "source": [
        "a,b=int(input('a= ')), int(input('b= '))\n",
        "print(f'La multiplicación de {a} * {b} es {a*b}')"
      ],
      "metadata": {
        "colab": {
          "base_uri": "https://localhost:8080/"
        },
        "id": "BVAKZUwVg3Fa",
        "outputId": "5d86207f-ad46-4232-e75f-6212c44be11a"
      },
      "execution_count": null,
      "outputs": [
        {
          "output_type": "stream",
          "name": "stdout",
          "text": [
            "a= 7\n",
            "b= 8\n",
            "La multiplicación de 7 * 8 es 56\n"
          ]
        }
      ]
    },
    {
      "cell_type": "markdown",
      "source": [
        "8 - Crea un programa que solicite dos valores numéricos, un numerador y un denominador, y realice la división entre los dos valores. Asegúrate de que el valor del denominador no sea igual a 0.\n"
      ],
      "metadata": {
        "id": "JfhJ0DtShIkN"
      }
    },
    {
      "cell_type": "code",
      "source": [
        "numerador = float(input('Numerador: '))\n",
        "denominador = float(input('Denominador (no puede ser 0): '))\n",
        "print(numerador / denominador)"
      ],
      "metadata": {
        "id": "EHY9BADXhPSX",
        "colab": {
          "base_uri": "https://localhost:8080/"
        },
        "outputId": "6b72141b-bf75-459e-e551-5191eb9473cf"
      },
      "execution_count": null,
      "outputs": [
        {
          "output_type": "stream",
          "name": "stdout",
          "text": [
            "Numerador: 245.25\n",
            "Denominador (no puede ser 0): 646.16\n",
            "0.37954995666707936\n"
          ]
        }
      ]
    },
    {
      "cell_type": "markdown",
      "source": [
        "9 - Crea un programa que solicite dos valores numéricos, un operador y una potencia, y realice la exponenciación entre estos dos valores.\n"
      ],
      "metadata": {
        "id": "MF83JsKupefm"
      }
    },
    {
      "cell_type": "code",
      "source": [
        "operador = int(input('Operador: '))\n",
        "potencia = int(input('Potencia: '))\n",
        "print(operador ** potencia)"
      ],
      "metadata": {
        "colab": {
          "base_uri": "https://localhost:8080/"
        },
        "id": "s_Kl6CqkpiQA",
        "outputId": "e8bd987b-dd39-4b5e-a561-3cb8622c6068"
      },
      "execution_count": null,
      "outputs": [
        {
          "output_type": "stream",
          "name": "stdout",
          "text": [
            "Operador: 3\n",
            "Potencia: 3\n",
            "27\n"
          ]
        }
      ]
    },
    {
      "cell_type": "markdown",
      "source": [
        "10 - Crea un programa que solicite dos valores numéricos, un numerador y un denominador, y realice la división entera entre los dos valores. Asegúrate de que el valor del denominador no sea igual a 0."
      ],
      "metadata": {
        "id": "ZRZCFWlap4CU"
      }
    },
    {
      "cell_type": "code",
      "source": [
        "numerador = int(input('Numerador: '))\n",
        "denominador = int(input('Denominador (no puede ser 0): '))\n",
        "print(numerador // denominador)"
      ],
      "metadata": {
        "colab": {
          "base_uri": "https://localhost:8080/"
        },
        "id": "LQDpGFOTp8nH",
        "outputId": "d1f3fbf9-2e5f-49b5-fcf1-1ff90e9b9fde"
      },
      "execution_count": null,
      "outputs": [
        {
          "output_type": "stream",
          "name": "stdout",
          "text": [
            "Numerador: 20\n",
            "Denominador (no puede ser 0): 10\n",
            "2\n"
          ]
        }
      ]
    },
    {
      "cell_type": "markdown",
      "source": [
        "11 - Crea un programa que solicite dos valores numéricos, un numerador y un denominador, y devuelva el resto de la división entre los dos valores. Asegúrate de que el valor del denominador no sea igual a 0.\n"
      ],
      "metadata": {
        "id": "mwiV_XdEqewv"
      }
    },
    {
      "cell_type": "code",
      "source": [
        "numerador = int(input('Numerador: '))\n",
        "denominador = int(input('Denominador (no puede ser 0): '))\n",
        "modulo =numerador % denominador\n",
        "modulo\n"
      ],
      "metadata": {
        "id": "JDdBu6ohqiUo",
        "outputId": "185ec750-84bd-4701-8ab8-b5d8084d27f5",
        "colab": {
          "base_uri": "https://localhost:8080/"
        }
      },
      "execution_count": 2,
      "outputs": [
        {
          "name": "stdout",
          "output_type": "stream",
          "text": [
            "Numerador: 7\n",
            "Denominador (no puede ser 0): 3\n"
          ]
        },
        {
          "output_type": "execute_result",
          "data": {
            "text/plain": [
              "1"
            ]
          },
          "metadata": {},
          "execution_count": 2
        }
      ]
    },
    {
      "cell_type": "markdown",
      "source": [
        "13 - Crea un código que calcule e imprima el promedio ponderado de los números 5, 12, 20 y 15 con pesos respectivamente iguales a 1, 2, 3 y 4."
      ],
      "metadata": {
        "id": "B42zDUbrvT0x"
      }
    },
    {
      "cell_type": "code",
      "source": [
        "promedio_ponderado = (5*1 + 12*2 + 20*3 + 15*4) / (1+2+3+4)\n",
        "promedio_ponderado"
      ],
      "metadata": {
        "id": "-vA-QJtAvdjc",
        "outputId": "0d011314-c5d4-46f7-d422-1d0b409b06ee",
        "colab": {
          "base_uri": "https://localhost:8080/"
        }
      },
      "execution_count": 3,
      "outputs": [
        {
          "output_type": "execute_result",
          "data": {
            "text/plain": [
              "14.9"
            ]
          },
          "metadata": {},
          "execution_count": 3
        }
      ]
    }
  ],
  "metadata": {
    "colab": {
      "provenance": [],
      "include_colab_link": true
    },
    "kernelspec": {
      "display_name": "Python 3",
      "name": "python3"
    },
    "language_info": {
      "name": "python"
    }
  },
  "nbformat": 4,
  "nbformat_minor": 0
}