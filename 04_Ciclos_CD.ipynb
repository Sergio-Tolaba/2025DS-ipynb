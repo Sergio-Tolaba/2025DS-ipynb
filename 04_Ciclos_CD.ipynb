{
  "nbformat": 4,
  "nbformat_minor": 0,
  "metadata": {
    "colab": {
      "provenance": [],
      "authorship_tag": "ABX9TyNCOfgcsSg1TKhR02aRkXGz",
      "include_colab_link": true
    },
    "kernelspec": {
      "name": "python3",
      "display_name": "Python 3"
    },
    "language_info": {
      "name": "python"
    }
  },
  "cells": [
    {
      "cell_type": "markdown",
      "metadata": {
        "id": "view-in-github",
        "colab_type": "text"
      },
      "source": [
        "<a href=\"https://colab.research.google.com/github/Sergio-Tolaba/2025DS-ipynb/blob/main/04_Ciclos_CD.ipynb\" target=\"_parent\"><img src=\"https://colab.research.google.com/assets/colab-badge.svg\" alt=\"Open In Colab\"/></a>"
      ]
    },
    {
      "cell_type": "markdown",
      "source": [
        "Promediar notas de dos notas de 3 estudianes // idem pero para 100 estudiantes?\n"
      ],
      "metadata": {
        "id": "tOLVtlREYtzO"
      }
    },
    {
      "cell_type": "code",
      "execution_count": 1,
      "metadata": {
        "colab": {
          "base_uri": "https://localhost:8080/"
        },
        "id": "3rkL07rcYiut",
        "outputId": "2c767818-7674-407f-9b4f-0105a781113d"
      },
      "outputs": [
        {
          "output_type": "stream",
          "name": "stdout",
          "text": [
            "Su nota3\n",
            "Su nota4\n",
            "3.5\n",
            "Su nota7\n",
            "Su nota9\n",
            "8.0\n",
            "Su nota5\n",
            "Su nota4\n",
            "4.5\n"
          ]
        }
      ],
      "source": [
        "n1= float(input('Su nota'))\n",
        "n2 = float(input('Su nota'))\n",
        "promE1= (n1+n2)/2\n",
        "print(promE1)\n",
        "\n",
        "n1= float(input('Su nota'))\n",
        "n2 = float(input('Su nota'))\n",
        "promE1= (n1+n2)/2\n",
        "print(promE1)\n",
        "\n",
        "n1= float(input('Su nota'))\n",
        "n2 = float(input('Su nota'))\n",
        "promE1= (n1+n2)/2\n",
        "print(promE1) # No es muy práctico Ej E100"
      ]
    },
    {
      "cell_type": "markdown",
      "source": [
        "#Ciclos\n",
        "* while=>ciclo mientras condición=True, ?repeticiones, usuario input()\n",
        "* for=>recorre lista, str, tupla, dict, sé k_repeticiones Ej rango"
      ],
      "metadata": {
        "id": "Z-lqQkMhbbG0"
      }
    },
    {
      "cell_type": "markdown",
      "source": [
        "while condicion: True\n",
        "  #bloque código\n",
        "* Ejemplo de promediar dos notas de 3 Estudiantes"
      ],
      "metadata": {
        "id": "CZg0Uj2fbnXT"
      }
    },
    {
      "cell_type": "code",
      "source": [
        "#Contador(c). Si el ciclo inicia con c=0 y se repite hasta c=2 (Ciclo se repite 3 veces = 3 estuciantes)\n",
        "# Otra forma c=1 while c<=3 .. c += 1\n",
        "c=0\n",
        "while c<3:\n",
        "  n1= float(input('Su nota: '))\n",
        "  n2 = float(input('Su nota: '))\n",
        "  prom= (n1+n2)/2\n",
        "  print(prom)\n",
        "  c=c+1\n"
      ],
      "metadata": {
        "colab": {
          "base_uri": "https://localhost:8080/"
        },
        "id": "NZx9XbRYcFHS",
        "outputId": "ea7e8e11-f9fb-48d3-eb82-03bc6bacbd03"
      },
      "execution_count": 2,
      "outputs": [
        {
          "output_type": "stream",
          "name": "stdout",
          "text": [
            "Su nota3\n",
            "Su nota4\n",
            "3.5\n",
            "Su nota7\n",
            "Su nota9\n",
            "8.0\n",
            "Su nota4\n",
            "Su nota5\n",
            "4.5\n"
          ]
        }
      ]
    },
    {
      "cell_type": "code",
      "source": [
        "# Contador (c), se imprima del 1 al 10=1...10=>inicia en 1=>c=1. El ciclo se ejecuta mientras c <=10\n",
        "c=1\n",
        "while c<=10:\n",
        "  print(c)\n",
        "  #c=c+1\n",
        "  c+=1 #JS=> c++"
      ],
      "metadata": {
        "colab": {
          "base_uri": "https://localhost:8080/"
        },
        "id": "19qpFaNxd27H",
        "outputId": "b6905f8c-ada5-4195-e23c-8b0880bbf2d6"
      },
      "execution_count": 6,
      "outputs": [
        {
          "output_type": "stream",
          "name": "stdout",
          "text": [
            "1\n",
            "2\n",
            "3\n",
            "4\n",
            "5\n",
            "6\n",
            "7\n",
            "8\n",
            "9\n",
            "10\n"
          ]
        }
      ]
    },
    {
      "cell_type": "code",
      "source": [
        "# Otra alternativa sería al revés. Se imprime igualemnte del 10 al 1\n",
        "c=10\n",
        "while c>=1:\n",
        "  print(c)\n",
        "  #c=c-1\n",
        "  c-=1 #JS sería c--"
      ],
      "metadata": {
        "colab": {
          "base_uri": "https://localhost:8080/"
        },
        "id": "NKMU-vAtfWcU",
        "outputId": "79d56ead-699e-49bd-df05-164ad2d59340"
      },
      "execution_count": 7,
      "outputs": [
        {
          "output_type": "stream",
          "name": "stdout",
          "text": [
            "10\n",
            "9\n",
            "8\n",
            "7\n",
            "6\n",
            "5\n",
            "4\n",
            "3\n",
            "2\n",
            "1\n"
          ]
        }
      ]
    },
    {
      "cell_type": "markdown",
      "source": [
        "* for elemento in conjunto:        \n",
        "    *block de código              \n",
        "* Ej for i in range(inicio,fin, paso)\n",
        "* Ej for i in range (inicio,fin)=>Incluye inicio y excluye fin; paso=1"
      ],
      "metadata": {
        "id": "dx9lBQpYsHv9"
      }
    },
    {
      "cell_type": "code",
      "source": [
        "for i in range(1,11):\n",
        "  print(i)\n",
        "list(range(1,11))"
      ],
      "metadata": {
        "colab": {
          "base_uri": "https://localhost:8080/"
        },
        "id": "djJN75TMs3iv",
        "outputId": "d7c809aa-e59d-452f-cfe6-998b8a9cac72"
      },
      "execution_count": 11,
      "outputs": [
        {
          "output_type": "stream",
          "name": "stdout",
          "text": [
            "1\n",
            "2\n",
            "3\n",
            "4\n",
            "5\n",
            "6\n",
            "7\n",
            "8\n",
            "9\n",
            "10\n"
          ]
        },
        {
          "output_type": "execute_result",
          "data": {
            "text/plain": [
              "[1, 2, 3, 4, 5, 6, 7, 8, 9, 10]"
            ]
          },
          "metadata": {},
          "execution_count": 11
        }
      ]
    },
    {
      "cell_type": "code",
      "source": [
        "# Estudiantes tres, promediar de cada uno dos notas\n",
        "for estudiante in range(3): # inicio=0, fin=3, paso=1 //Rango de números enteros. paso=0 da ValueError\n",
        "  n1= float(input('Su nota: '))\n",
        "  n2 = float(input('Su nota: '))\n",
        "  prom= (n1+n2)/2\n",
        "  print(prom)"
      ],
      "metadata": {
        "colab": {
          "base_uri": "https://localhost:8080/"
        },
        "id": "ApepiZ_Qt3nG",
        "outputId": "bebd4428-f5e1-4386-ddde-e916b3226c66"
      },
      "execution_count": 9,
      "outputs": [
        {
          "output_type": "stream",
          "name": "stdout",
          "text": [
            "Su nota: 3\n",
            "Su nota: 4\n",
            "3.5\n",
            "Su nota: 7\n",
            "Su nota: 9\n",
            "8.0\n",
            "Su nota: 4\n",
            "Su nota: 5\n",
            "4.5\n"
          ]
        }
      ]
    },
    {
      "cell_type": "code",
      "source": [
        "tt_prop=0\n",
        "for anio in range(2017,2019):\n",
        "  kprop= int(input(f'cantidad de propiedades construidas en {anio}: '))\n",
        "  #tt_prop= tt_prop+kprop\n",
        "  tt_prop+=kprop\n",
        "print(f'Total de propiedades {tt_prop}')"
      ],
      "metadata": {
        "colab": {
          "base_uri": "https://localhost:8080/"
        },
        "id": "3YULpYwit3g3",
        "outputId": "9c50007f-a5ea-4fb3-ad81-f81d3ba19e00"
      },
      "execution_count": 14,
      "outputs": [
        {
          "output_type": "stream",
          "name": "stdout",
          "text": [
            "cantidad de propiedades construidas en 2017: 5\n",
            "cantidad de propiedades construidas en 2018: 9\n",
            "Total de propiedades 14\n"
          ]
        }
      ]
    },
    {
      "cell_type": "markdown",
      "source": [
        " # 09 Desafío: ¡Es hora de practicar!\n",
        "1 - Escribe un programa que solicite dos números enteros e imprima todos los números enteros entre ellos."
      ],
      "metadata": {
        "id": "tzjmklTb1lte"
      }
    },
    {
      "cell_type": "code",
      "source": [
        "e1=int(input('ingrese el primer número entero:  '))\n",
        "e2=int(input('ingrese el segundo número entero: '))\n",
        "\n",
        "if e1<e2:\n",
        "  for i in range(e1,e2+1):\n",
        "    print(i)\n",
        "else:\n",
        "  for i in range(e2,e1+1):\n",
        "    print(i)"
      ],
      "metadata": {
        "colab": {
          "base_uri": "https://localhost:8080/"
        },
        "id": "2vOGn4Ls3E_e",
        "outputId": "73520033-34e0-4bd3-a027-b681472501bc"
      },
      "execution_count": 16,
      "outputs": [
        {
          "output_type": "stream",
          "name": "stdout",
          "text": [
            "ingrese el primer número entero:  4\n",
            "ingrese el segundo número entero: 2\n",
            "2\n",
            "3\n",
            "4\n"
          ]
        }
      ]
    },
    {
      "cell_type": "markdown",
      "source": [
        "2 - Escribe un programa que solicite el porcentaje de crecimiento de producción de una empresa e informe si hubo un crecimiento (porcentaje positivo) o una disminución (porcentaje negativo).\n"
      ],
      "metadata": {
        "id": "hnDSv50j5AC9"
      }
    },
    {
      "cell_type": "code",
      "source": [
        "porcentaje = float(input(\"Ingrese el porcentaje de crecimiento de la producción: \"))\n",
        "\n",
        "if porcentaje > 0:\n",
        "    print(f\"Hubo un crecimiento en la producción del {abs(porcentaje)} %.\")\n",
        "elif porcentaje < 0:\n",
        "    print(f\"Hubo una disminución en la producción del {abs(porcentaje) } %.\")\n",
        "else:\n",
        "    print(\"No hubo cambios en la producción.\")"
      ],
      "metadata": {
        "colab": {
          "base_uri": "https://localhost:8080/"
        },
        "id": "jdTlcRIj5IJE",
        "outputId": "c4bbbd22-422b-4a57-9805-de46d49ca1eb"
      },
      "execution_count": 24,
      "outputs": [
        {
          "output_type": "stream",
          "name": "stdout",
          "text": [
            "Ingrese el porcentaje de crecimiento de la producción: -5.8\n",
            "Hubo una disminución en la producción del 5.8 %.\n"
          ]
        }
      ]
    },
    {
      "cell_type": "markdown",
      "source": [
        "3 - Para procesar una cantidad de 15 datos de evaluaciones de usuarios de un servicio de la empresa, necesitamos verificar si las calificaciones son válidas. Por lo tanto, escribe un programa que recibirá calificaciones del 0 al 5 y verificará si son valores válidos. Si se ingresa una calificación superior a 5 o inferior a 0, se repetirá hasta que el usuario ingrese un valor válido."
      ],
      "metadata": {
        "id": "e59PRQUI6vFH"
      }
    },
    {
      "cell_type": "code",
      "source": [
        "# for i in range(1,16): se saben las repeticiones pero acá si es inválida ya no sabemos cuántas veces se repetirá el ciclo\n",
        "i=1\n",
        "while i <=15:\n",
        "  calificacion = int(input('Ingrese una calificación (0-5): '))\n",
        "  if calificacion >=0 and calificacion <=5:\n",
        "    print(f'Calificación válida, encuesta número: {i} su calificación fue: {calificacion}')\n",
        "    i+=1\n",
        "  else:\n",
        "    print(f'Calificación inválida, su calificación fue: {calificacion}')\n",
        "    continue\n",
        "\n",
        "\n",
        "print('Gracias por su tiempo')\n",
        "\n",
        "\n",
        "\n"
      ],
      "metadata": {
        "colab": {
          "base_uri": "https://localhost:8080/"
        },
        "id": "9UQdTX4d7Edr",
        "outputId": "fbc37ad0-5f37-4fb0-f597-d6554f40e846"
      },
      "execution_count": 24,
      "outputs": [
        {
          "output_type": "stream",
          "name": "stdout",
          "text": [
            "Ingrese una calificación (0-5): 1\n",
            "Calificación válida, encuesta número: 1 su calificación fue: 1\n",
            "Ingrese una calificación (0-5): 2\n",
            "Calificación válida, encuesta número: 2 su calificación fue: 2\n",
            "Ingrese una calificación (0-5): 3\n",
            "Calificación válida, encuesta número: 3 su calificación fue: 3\n",
            "Ingrese una calificación (0-5): 7\n",
            "Calificación inválida, su calificación fue: 7\n",
            "Ingrese una calificación (0-5): 4\n",
            "Calificación válida, encuesta número: 4 su calificación fue: 4\n",
            "Ingrese una calificación (0-5): 5\n",
            "Calificación válida, encuesta número: 5 su calificación fue: 5\n",
            "Ingrese una calificación (0-5): 6\n",
            "Calificación inválida, su calificación fue: 6\n",
            "Ingrese una calificación (0-5): 7\n",
            "Calificación inválida, su calificación fue: 7\n",
            "Ingrese una calificación (0-5): 4\n",
            "Calificación válida, encuesta número: 6 su calificación fue: 4\n",
            "Ingrese una calificación (0-5): 3\n",
            "Calificación válida, encuesta número: 7 su calificación fue: 3\n",
            "Ingrese una calificación (0-5): 2\n",
            "Calificación válida, encuesta número: 8 su calificación fue: 2\n",
            "Ingrese una calificación (0-5): 1\n",
            "Calificación válida, encuesta número: 9 su calificación fue: 1\n",
            "Ingrese una calificación (0-5): 5\n",
            "Calificación válida, encuesta número: 10 su calificación fue: 5\n",
            "Ingrese una calificación (0-5): 1\n",
            "Calificación válida, encuesta número: 11 su calificación fue: 1\n",
            "Ingrese una calificación (0-5): 0\n",
            "Calificación válida, encuesta número: 12 su calificación fue: 0\n",
            "Ingrese una calificación (0-5): 3\n",
            "Calificación válida, encuesta número: 13 su calificación fue: 3\n",
            "Ingrese una calificación (0-5): 1\n",
            "Calificación válida, encuesta número: 14 su calificación fue: 1\n",
            "Ingrese una calificación (0-5): 6\n",
            "Calificación inválida, su calificación fue: 6\n",
            "Ingrese una calificación (0-5): 3\n",
            "Calificación válida, encuesta número: 15 su calificación fue: 3\n",
            "Gracias por su tiempo\n"
          ]
        }
      ]
    },
    {
      "cell_type": "markdown",
      "source": [
        "4 - Desarrolla un programa que lea un conjunto indefinido de temperaturas en grados Celsius y calcule su promedio. La lectura debe detenerse al ingresar el valor -273°C."
      ],
      "metadata": {
        "id": "IKS8L8uGSEnQ"
      }
    },
    {
      "cell_type": "code",
      "source": [
        "\n",
        "suma=0\n",
        "i=0\n",
        "temp=0\n",
        "while temp != -273:\n",
        "  temp = float(input('Ingrese una temperatura en grados Celsius (-273 para salir): '))\n",
        "\n",
        "  if temp == -273:\n",
        "    break\n",
        "  i+=1\n",
        "  suma += temp\n",
        "print(f'El promedio de las temp igresadas es: {suma/i}')"
      ],
      "metadata": {
        "colab": {
          "base_uri": "https://localhost:8080/"
        },
        "id": "7JHaVZcUSDYn",
        "outputId": "e36a8608-2984-42a9-a467-178924a20730"
      },
      "execution_count": 13,
      "outputs": [
        {
          "output_type": "stream",
          "name": "stdout",
          "text": [
            "Ingrese una temperatura en grados Celsius (-273 para salir): 23\n",
            "Ingrese una temperatura en grados Celsius (-273 para salir): 20\n",
            "Ingrese una temperatura en grados Celsius (-273 para salir): -4\n",
            "Ingrese una temperatura en grados Celsius (-273 para salir): -273\n",
            "El promedio de las temp igresadas es: 13.0\n"
          ]
        }
      ]
    },
    {
      "cell_type": "markdown",
      "source": [
        "5 - Escribe un programa que calcule el factorial de un número entero proporcionado por el usuario. Recuerda que el factorial de un número entero es el producto de ese número por todos sus antecesores hasta llegar al número 1. Por ejemplo, el factorial de 5 es 5 x 4 x 3 x 2 x 1 = 120."
      ],
      "metadata": {
        "id": "HwMZ8IYziz6F"
      }
    },
    {
      "cell_type": "code",
      "source": [
        "#factorial de 5= 5x1x\n",
        "num = int(input(\"Ingrese un número entero: \"))\n",
        "factorial = 1\n",
        "for num in range(num,0,-1):\n",
        "  print(f'=>{factorial}x{num}')\n",
        "  factorial = factorial *num\n",
        "\n",
        "\n",
        "print(f\"El factorial de {num} es: {factorial}\")"
      ],
      "metadata": {
        "colab": {
          "base_uri": "https://localhost:8080/"
        },
        "id": "NXqtr35ji7a1",
        "outputId": "891b65ea-fb2c-4816-bef4-5749197e1abd"
      },
      "execution_count": 40,
      "outputs": [
        {
          "output_type": "stream",
          "name": "stdout",
          "text": [
            "Ingrese un número entero: 5\n",
            "=>1x5\n",
            "=>5x4\n",
            "=>20x3\n",
            "=>60x2\n",
            "=>120x1\n",
            "El factorial de 1 es: 120\n"
          ]
        }
      ]
    },
    {
      "cell_type": "markdown",
      "source": [
        "Momento de los proyectos\n",
        "\n",
        "6 - Escribe un programa que genere la tabla de multiplicar de un número entero del 1 al 10, según la elección del usuario. Como ejemplo, para el número 2, la tabla de multiplicar debe mostrarse en el siguiente formato:"
      ],
      "metadata": {
        "id": "UWfWCT4hrwp9"
      }
    },
    {
      "cell_type": "markdown",
      "source": [
        "Tabla de multiplicar del 2:\n",
        "2 x 1 = 2\n",
        "2 x 2 = 4\n",
        "[...]\n",
        "2 x 10 = 20"
      ],
      "metadata": {
        "id": "p9eGDeaIrwoF"
      }
    },
    {
      "cell_type": "code",
      "source": [
        "'''\n",
        "Tabla de multiplicar del 2:\n",
        "2 x 1 = 2\n",
        "2 x 2 = 4\n",
        "[...]\n",
        "2 x 10 = 20\n",
        "'''\n",
        "num = int(input(\"Ingrese un número entero: \"))\n",
        "print(f'Tabla de multiplicar del {num}:')\n",
        "for i in range(1,11):\n",
        "  print(f'{num} x {i} = {num*i}')\n",
        "#"
      ],
      "metadata": {
        "colab": {
          "base_uri": "https://localhost:8080/"
        },
        "id": "RYx_LvNhr7wQ",
        "outputId": "aab4e18d-45b5-4018-a6e5-1633a610cc55"
      },
      "execution_count": 42,
      "outputs": [
        {
          "output_type": "stream",
          "name": "stdout",
          "text": [
            "Ingrese un número entero: 8\n",
            "Tabla de multiplicar del 8:\n",
            "8 x 1 = 8\n",
            "8 x 2 = 16\n",
            "8 x 3 = 24\n",
            "8 x 4 = 32\n",
            "8 x 5 = 40\n",
            "8 x 6 = 48\n",
            "8 x 7 = 56\n",
            "8 x 8 = 64\n",
            "8 x 9 = 72\n",
            "8 x 10 = 80\n"
          ]
        }
      ]
    },
    {
      "cell_type": "markdown",
      "source": [
        "7 - Los números primos tienen diversas aplicaciones en Ciencia de Datos, como en criptografía y seguridad. Un número primo es aquel que es divisible solo por sí mismo y por 1. Por lo tanto, crea un programa que solicite un número entero y determine si es un número primo o no."
      ],
      "metadata": {
        "id": "kQJHahUEs3Sj"
      }
    },
    {
      "cell_type": "code",
      "source": [
        "n = int(input(\"Ingrese un número entero: \"))\n",
        "\n",
        "# Suponemos que el número es primo\n",
        "es_primo = True\n",
        "\n",
        "# Los números menores o iguales a 1 no son primos\n",
        "if n <= 1:\n",
        "    es_primo = False\n",
        "else:\n",
        "    # Revisamos si hay algún divisor entre 2 y la raíz cuadrada de n\n",
        "    for i in range(2, int(n**0.5) + 1):\n",
        "        if n % i == 0:\n",
        "            es_primo = False\n",
        "            break\n",
        "\n",
        "# Mostramos el resultado\n",
        "if es_primo:\n",
        "    print(f\"{n} es primo.\")\n",
        "else:\n",
        "    print(f\"{n} no es primo.\")\n"
      ],
      "metadata": {
        "colab": {
          "base_uri": "https://localhost:8080/"
        },
        "id": "ZpM5wFBNtC5N",
        "outputId": "4adf4705-fb72-434f-c7a9-47bf2a7e3bb4"
      },
      "execution_count": 51,
      "outputs": [
        {
          "output_type": "stream",
          "name": "stdout",
          "text": [
            "Ingrese un número entero: 4\n",
            "4 no es primo.\n"
          ]
        }
      ]
    }
  ]
}