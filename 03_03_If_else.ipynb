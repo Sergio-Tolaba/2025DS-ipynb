{
  "nbformat": 4,
  "nbformat_minor": 0,
  "metadata": {
    "colab": {
      "provenance": [],
      "authorship_tag": "ABX9TyOBLKwqsqMeVQ4aIVym5f47",
      "include_colab_link": true
    },
    "kernelspec": {
      "name": "python3",
      "display_name": "Python 3"
    },
    "language_info": {
      "name": "python"
    }
  },
  "cells": [
    {
      "cell_type": "markdown",
      "metadata": {
        "id": "view-in-github",
        "colab_type": "text"
      },
      "source": [
        "<a href=\"https://colab.research.google.com/github/Sergio-Tolaba/2025DS-ipynb/blob/main/03_03_If_else.ipynb\" target=\"_parent\"><img src=\"https://colab.research.google.com/assets/colab-badge.svg\" alt=\"Open In Colab\"/></a>"
      ]
    },
    {
      "cell_type": "markdown",
      "source": [
        "# 03. Estructuras Condicionales (Control de flujo del programa según la condición se cumple toma un camino, si no se cumple  toma otro camino) Toma de decisiones con una o más(elif cond2..condx:) condiciones // Booleano True/False\n",
        "## DS filtrado de datos según condiciones(=comparación de datos que da T/F)\n",
        "---\n",
        "\n",
        "\n",
        "  03 If condicion: else: (Video) |  if condicion: elif condicion: else:\n"
      ],
      "metadata": {
        "id": "OU_Y91BmDBHz"
      }
    },
    {
      "cell_type": "code",
      "execution_count": 3,
      "metadata": {
        "colab": {
          "base_uri": "https://localhost:8080/"
        },
        "id": "nZJz7_jrC2tX",
        "outputId": "61f16b99-00de-4ffb-d10e-d8eb4392d66a"
      },
      "outputs": [
        {
          "output_type": "stream",
          "name": "stdout",
          "text": [
            "Sino(condición es falsa) ejecuto este código\n",
            "Fin programa\n"
          ]
        }
      ],
      "source": [
        "# Así se escribe en pytho el if\n",
        "if 2 > 7 : # JS if (2 < 7){}\n",
        "  print('Si if es verdadero ejecuto este código') # Importa el identado(2 en gColab o 4 espacios, mantener uno u otro)\n",
        "else:\n",
        "  print('Sino(condición es falsa) ejecuto este código')\n",
        "print('Fin programa')"
      ]
    },
    {
      "cell_type": "code",
      "source": [
        "nota = float(input('Su nota es: '))\n",
        "if nota >=7 :\n",
        "  print('Aprobado')\n",
        "else:\n",
        "  print('Reprobado')"
      ],
      "metadata": {
        "colab": {
          "base_uri": "https://localhost:8080/"
        },
        "id": "lTH7aBi8gInG",
        "outputId": "01d1f2c4-87df-46dc-96c3-bdc257438d40"
      },
      "execution_count": 4,
      "outputs": [
        {
          "output_type": "stream",
          "name": "stdout",
          "text": [
            "Su nota es: 7\n",
            "Aprobado\n"
          ]
        }
      ]
    },
    {
      "cell_type": "markdown",
      "source": [
        "Se contempló que los que tengan entre 5 y 7 podrán recuperar"
      ],
      "metadata": {
        "id": "OIiBSH2_FZOK"
      }
    },
    {
      "cell_type": "code",
      "source": [
        "nota=5\n",
        "if nota >7:\n",
        "  print('Aprobó')\n",
        "elif nota >=5: # Si no, si\n",
        "  print('Recuperó')\n",
        "else:\n",
        "  print('Reprobó')"
      ],
      "metadata": {
        "colab": {
          "base_uri": "https://localhost:8080/"
        },
        "id": "5bRepreShbXo",
        "outputId": "1889ae1e-a442-4882-cc60-0f7126c644d6"
      },
      "execution_count": 15,
      "outputs": [
        {
          "output_type": "stream",
          "name": "stdout",
          "text": [
            "Recuperó\n"
          ]
        }
      ]
    },
    {
      "cell_type": "markdown",
      "source": [
        "Varias condiciones simultaneamente # Operadores lógicos AND, OR y NOT //\n",
        "* AND = si dos condiciones son verdaderas => Salida es True (otro caso=>F)\n",
        "* OR = Basta una condicion verdera de las dos =>T\n",
        "* NOT = Si el resultado de la condición es T=>F y vicersa\n"
      ],
      "metadata": {
        "id": "Jbernaybl7mh"
      }
    },
    {
      "cell_type": "code",
      "source": [
        "v = True\n",
        "f = False\n",
        "if v and v:\n",
        "  print('Verdadero')\n",
        "else:\n",
        "  print('Falso')"
      ],
      "metadata": {
        "colab": {
          "base_uri": "https://localhost:8080/"
        },
        "id": "9oPnnoJil-2W",
        "outputId": "1933d11d-7eb7-4583-9633-984b47a6caec"
      },
      "execution_count": 17,
      "outputs": [
        {
          "output_type": "stream",
          "name": "stdout",
          "text": [
            "Verdadero\n"
          ]
        }
      ]
    },
    {
      "cell_type": "code",
      "source": [
        "if v or f:\n",
        "  print('Verdadero')\n",
        "else:\n",
        "  print('Falso')"
      ],
      "metadata": {
        "colab": {
          "base_uri": "https://localhost:8080/"
        },
        "id": "dVpNATerp7fk",
        "outputId": "72f1955d-2afa-4f7d-bbc8-49c9cad3365d"
      },
      "execution_count": 18,
      "outputs": [
        {
          "output_type": "stream",
          "name": "stdout",
          "text": [
            "Verdadero\n"
          ]
        }
      ]
    },
    {
      "cell_type": "code",
      "source": [
        "if not f:\n",
        "  print('Verdadero')\n",
        "else:\n",
        "  print('Falso')"
      ],
      "metadata": {
        "colab": {
          "base_uri": "https://localhost:8080/"
        },
        "id": "CrunncuQqgCg",
        "outputId": "b9dc07d2-e3c0-426d-939d-678e3b98e34f"
      },
      "execution_count": 19,
      "outputs": [
        {
          "output_type": "stream",
          "name": "stdout",
          "text": [
            "Verdadero\n"
          ]
        }
      ]
    },
    {
      "cell_type": "markdown",
      "source": [
        "* IN = permite saber si un elmento está en una lista (4 tipos de colecciones)\n",
        "1.   lista=[] => ordenados, modificables, duplicados=si\n",
        "2.   tupla=()=>ordenados pero inmutables (no se pueden modificar), duplicados=si\n",
        "3.   conjunto(set)={}=>No ordenados, únicos\n",
        "4.   diccionario(dict)=>clave(única): valor, (mantienen orden inserción)v3.7\n",
        "\n"
      ],
      "metadata": {
        "id": "kk9cmCMWrSiW"
      }
    },
    {
      "cell_type": "code",
      "source": [
        "aprobados = 'Juan', 'Pedro', 'Ana'\n",
        "if 'Juan' in aprobados:\n",
        "  print('Juan está en la lista de aprobados')\n",
        "else:\n",
        "  print('Juan no está en la lista de aprobados')"
      ],
      "metadata": {
        "colab": {
          "base_uri": "https://localhost:8080/"
        },
        "id": "Fn9Rw_rxrbkZ",
        "outputId": "adaba581-c62b-4160-909d-7af29453d6c1"
      },
      "execution_count": 21,
      "outputs": [
        {
          "output_type": "stream",
          "name": "stdout",
          "text": [
            "Juan está en la lista de aprobados\n"
          ]
        }
      ]
    }
  ]
}